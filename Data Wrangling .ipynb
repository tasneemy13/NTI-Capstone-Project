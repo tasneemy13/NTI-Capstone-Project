{
 "cells": [
  {
   "cell_type": "markdown",
   "id": "1d844695",
   "metadata": {},
   "source": [
    "<center><h1 style=\"font-size: 40px;color:#b30000;\">Supermarket Sales Project</h1></center>"
   ]
  },
  {
   "cell_type": "markdown",
   "id": "da4d1fd2",
   "metadata": {},
   "source": [
    "<center><h1 style=\"font-size: 30px;color:#b30000;\">Data Wrangling Part</h1></center>"
   ]
  },
  {
   "cell_type": "markdown",
   "id": "39f3814d",
   "metadata": {},
   "source": [
    "### Import Libraries"
   ]
  },
  {
   "cell_type": "code",
   "execution_count": 189,
   "id": "6c227f21",
   "metadata": {},
   "outputs": [],
   "source": [
    "import pandas as pd\n",
    "import numpy as np\n",
    "import plotly.express as px"
   ]
  },
  {
   "cell_type": "markdown",
   "id": "37f66f1b",
   "metadata": {},
   "source": [
    "### Read Data"
   ]
  },
  {
   "cell_type": "code",
   "execution_count": 190,
   "id": "987abbf1",
   "metadata": {},
   "outputs": [],
   "source": [
    "df = pd.read_csv('Capstone Data - Supermarket Sales.csv')"
   ]
  },
  {
   "cell_type": "markdown",
   "id": "2032c054",
   "metadata": {},
   "source": [
    "### Show sample of the data"
   ]
  },
  {
   "cell_type": "code",
   "execution_count": 191,
   "id": "ef2de9a1",
   "metadata": {},
   "outputs": [
    {
     "data": {
      "text/html": [
       "<div>\n",
       "<style scoped>\n",
       "    .dataframe tbody tr th:only-of-type {\n",
       "        vertical-align: middle;\n",
       "    }\n",
       "\n",
       "    .dataframe tbody tr th {\n",
       "        vertical-align: top;\n",
       "    }\n",
       "\n",
       "    .dataframe thead th {\n",
       "        text-align: right;\n",
       "    }\n",
       "</style>\n",
       "<table border=\"1\" class=\"dataframe\">\n",
       "  <thead>\n",
       "    <tr style=\"text-align: right;\">\n",
       "      <th></th>\n",
       "      <th>Invoice ID</th>\n",
       "      <th>Branch</th>\n",
       "      <th>Yangon</th>\n",
       "      <th>Naypyitaw</th>\n",
       "      <th>Mandalay</th>\n",
       "      <th>Customer type</th>\n",
       "      <th>Gender</th>\n",
       "      <th>Product line</th>\n",
       "      <th>Unit price</th>\n",
       "      <th>Quantity</th>\n",
       "      <th>Tax 5%</th>\n",
       "      <th>Total</th>\n",
       "      <th>Date</th>\n",
       "      <th>Time</th>\n",
       "      <th>Payment</th>\n",
       "      <th>Rating</th>\n",
       "    </tr>\n",
       "  </thead>\n",
       "  <tbody>\n",
       "    <tr>\n",
       "      <th>630</th>\n",
       "      <td>149-61-1929</td>\n",
       "      <td>A</td>\n",
       "      <td>1</td>\n",
       "      <td>0</td>\n",
       "      <td>0</td>\n",
       "      <td>Normal</td>\n",
       "      <td>Male</td>\n",
       "      <td>Sports and travel</td>\n",
       "      <td>64.19</td>\n",
       "      <td>10</td>\n",
       "      <td>32.0950</td>\n",
       "      <td>673.9950</td>\n",
       "      <td>1/19/2019</td>\n",
       "      <td>14:08</td>\n",
       "      <td>Credit card</td>\n",
       "      <td>6.7</td>\n",
       "    </tr>\n",
       "    <tr>\n",
       "      <th>956</th>\n",
       "      <td>577-34-7579</td>\n",
       "      <td>C</td>\n",
       "      <td>0</td>\n",
       "      <td>1</td>\n",
       "      <td>0</td>\n",
       "      <td>Member</td>\n",
       "      <td>Male</td>\n",
       "      <td>Food and beverages</td>\n",
       "      <td>50.49</td>\n",
       "      <td>9</td>\n",
       "      <td>22.7205</td>\n",
       "      <td>477.1305</td>\n",
       "      <td>1/10/2019</td>\n",
       "      <td>17:16</td>\n",
       "      <td>Cash</td>\n",
       "      <td>5.4</td>\n",
       "    </tr>\n",
       "    <tr>\n",
       "      <th>671</th>\n",
       "      <td>642-61-4706</td>\n",
       "      <td>B</td>\n",
       "      <td>0</td>\n",
       "      <td>0</td>\n",
       "      <td>1</td>\n",
       "      <td>Member</td>\n",
       "      <td>Male</td>\n",
       "      <td>Food and beverages</td>\n",
       "      <td>93.4</td>\n",
       "      <td>2</td>\n",
       "      <td>9.3400</td>\n",
       "      <td>196.1400</td>\n",
       "      <td>3/30/2019</td>\n",
       "      <td>16:34</td>\n",
       "      <td>Cash</td>\n",
       "      <td>5.5</td>\n",
       "    </tr>\n",
       "    <tr>\n",
       "      <th>228</th>\n",
       "      <td>466-61-5506</td>\n",
       "      <td>B</td>\n",
       "      <td>0</td>\n",
       "      <td>0</td>\n",
       "      <td>1</td>\n",
       "      <td>Member</td>\n",
       "      <td>Female</td>\n",
       "      <td>Electronic accessories</td>\n",
       "      <td>90.7</td>\n",
       "      <td>6</td>\n",
       "      <td>27.2100</td>\n",
       "      <td>571.4100</td>\n",
       "      <td>2/26/2019</td>\n",
       "      <td>10:52</td>\n",
       "      <td>Cash</td>\n",
       "      <td>5.3</td>\n",
       "    </tr>\n",
       "    <tr>\n",
       "      <th>808</th>\n",
       "      <td>559-61-5987</td>\n",
       "      <td>B</td>\n",
       "      <td>0</td>\n",
       "      <td>0</td>\n",
       "      <td>1</td>\n",
       "      <td>Normal</td>\n",
       "      <td>Female</td>\n",
       "      <td>Health and beauty</td>\n",
       "      <td>17.75</td>\n",
       "      <td>1</td>\n",
       "      <td>0.8875</td>\n",
       "      <td>18.6375</td>\n",
       "      <td>1/14/2019</td>\n",
       "      <td>10:38</td>\n",
       "      <td>Cash</td>\n",
       "      <td>8.6</td>\n",
       "    </tr>\n",
       "  </tbody>\n",
       "</table>\n",
       "</div>"
      ],
      "text/plain": [
       "      Invoice ID Branch  Yangon  Naypyitaw  Mandalay Customer type  Gender  \\\n",
       "630  149-61-1929      A       1          0         0        Normal    Male   \n",
       "956  577-34-7579      C       0          1         0        Member    Male   \n",
       "671  642-61-4706      B       0          0         1        Member    Male   \n",
       "228  466-61-5506      B       0          0         1        Member  Female   \n",
       "808  559-61-5987      B       0          0         1        Normal  Female   \n",
       "\n",
       "               Product line Unit price  Quantity   Tax 5%     Total  \\\n",
       "630       Sports and travel      64.19        10  32.0950  673.9950   \n",
       "956      Food and beverages      50.49         9  22.7205  477.1305   \n",
       "671      Food and beverages       93.4         2   9.3400  196.1400   \n",
       "228  Electronic accessories       90.7         6  27.2100  571.4100   \n",
       "808       Health and beauty      17.75         1   0.8875   18.6375   \n",
       "\n",
       "          Date   Time      Payment  Rating  \n",
       "630  1/19/2019  14:08  Credit card     6.7  \n",
       "956  1/10/2019  17:16         Cash     5.4  \n",
       "671  3/30/2019  16:34         Cash     5.5  \n",
       "228  2/26/2019  10:52         Cash     5.3  \n",
       "808  1/14/2019  10:38         Cash     8.6  "
      ]
     },
     "execution_count": 191,
     "metadata": {},
     "output_type": "execute_result"
    }
   ],
   "source": [
    "df.sample(5)"
   ]
  },
  {
   "cell_type": "markdown",
   "id": "969e8730",
   "metadata": {},
   "source": [
    "### Show Shape of the data"
   ]
  },
  {
   "cell_type": "code",
   "execution_count": 192,
   "id": "d1691867",
   "metadata": {},
   "outputs": [
    {
     "data": {
      "text/plain": [
       "(1006, 16)"
      ]
     },
     "execution_count": 192,
     "metadata": {},
     "output_type": "execute_result"
    }
   ],
   "source": [
    "df.shape"
   ]
  },
  {
   "cell_type": "markdown",
   "id": "c643e930",
   "metadata": {},
   "source": [
    "### Check Null Values"
   ]
  },
  {
   "cell_type": "code",
   "execution_count": 193,
   "id": "cfa38ee9",
   "metadata": {},
   "outputs": [
    {
     "data": {
      "text/plain": [
       "Invoice ID       0.000000\n",
       "Branch           0.000000\n",
       "Yangon           0.000000\n",
       "Naypyitaw        0.000000\n",
       "Mandalay         0.000000\n",
       "Customer type    0.000000\n",
       "Gender           0.000000\n",
       "Product line     0.000000\n",
       "Unit price       0.000000\n",
       "Quantity         0.000000\n",
       "Tax 5%           0.894632\n",
       "Total            0.298211\n",
       "Date             0.000000\n",
       "Time             0.000000\n",
       "Payment          0.000000\n",
       "Rating           0.000000\n",
       "dtype: float64"
      ]
     },
     "execution_count": 193,
     "metadata": {},
     "output_type": "execute_result"
    }
   ],
   "source": [
    "df.isnull().mean() * 100"
   ]
  },
  {
   "cell_type": "markdown",
   "id": "e15e104b",
   "metadata": {},
   "source": [
    "### Check Duplication"
   ]
  },
  {
   "cell_type": "code",
   "execution_count": 194,
   "id": "986e5f18",
   "metadata": {},
   "outputs": [
    {
     "data": {
      "text/plain": [
       "6"
      ]
     },
     "execution_count": 194,
     "metadata": {},
     "output_type": "execute_result"
    }
   ],
   "source": [
    "df.duplicated().sum()"
   ]
  },
  {
   "cell_type": "code",
   "execution_count": 195,
   "id": "c57b09d6",
   "metadata": {},
   "outputs": [],
   "source": [
    "## Drop Duplicates\n",
    "df.drop_duplicates(inplace=True)\n",
    "\n",
    "## Reset Index\n",
    "df.reset_index(drop=True, inplace=True)"
   ]
  },
  {
   "cell_type": "markdown",
   "id": "c781f714",
   "metadata": {},
   "source": [
    "### Check Info of Data"
   ]
  },
  {
   "cell_type": "code",
   "execution_count": 196,
   "id": "9cde6f06",
   "metadata": {},
   "outputs": [
    {
     "name": "stdout",
     "output_type": "stream",
     "text": [
      "<class 'pandas.core.frame.DataFrame'>\n",
      "RangeIndex: 1000 entries, 0 to 999\n",
      "Data columns (total 16 columns):\n",
      " #   Column         Non-Null Count  Dtype  \n",
      "---  ------         --------------  -----  \n",
      " 0   Invoice ID     1000 non-null   object \n",
      " 1   Branch         1000 non-null   object \n",
      " 2   Yangon         1000 non-null   int64  \n",
      " 3   Naypyitaw      1000 non-null   int64  \n",
      " 4   Mandalay       1000 non-null   int64  \n",
      " 5   Customer type  1000 non-null   object \n",
      " 6   Gender         1000 non-null   object \n",
      " 7   Product line   1000 non-null   object \n",
      " 8   Unit price     1000 non-null   object \n",
      " 9   Quantity       1000 non-null   int64  \n",
      " 10  Tax 5%         991 non-null    float64\n",
      " 11  Total          997 non-null    float64\n",
      " 12  Date           1000 non-null   object \n",
      " 13  Time           1000 non-null   object \n",
      " 14  Payment        1000 non-null   object \n",
      " 15  Rating         1000 non-null   float64\n",
      "dtypes: float64(3), int64(4), object(9)\n",
      "memory usage: 125.1+ KB\n"
     ]
    }
   ],
   "source": [
    "df.info()"
   ]
  },
  {
   "cell_type": "markdown",
   "id": "c6b58daa",
   "metadata": {},
   "source": [
    "<center><h1 style=\"font-size: 30px;color:#b30000;\">Univariate Analysis</h1></center>"
   ]
  },
  {
   "cell_type": "markdown",
   "id": "e6414af5",
   "metadata": {},
   "source": [
    "## 1 - \"Invoice ID\" Column"
   ]
  },
  {
   "cell_type": "code",
   "execution_count": 197,
   "id": "8e508d87",
   "metadata": {
    "scrolled": true
   },
   "outputs": [
    {
     "data": {
      "text/plain": [
       "1000"
      ]
     },
     "execution_count": 197,
     "metadata": {},
     "output_type": "execute_result"
    }
   ],
   "source": [
    "df['Invoice ID'].nunique()"
   ]
  },
  {
   "cell_type": "markdown",
   "id": "89e158f6",
   "metadata": {},
   "source": [
    "## 2 - \"Branch\" Column"
   ]
  },
  {
   "cell_type": "code",
   "execution_count": 198,
   "id": "73badb99",
   "metadata": {},
   "outputs": [
    {
     "data": {
      "text/plain": [
       "array(['A', 'C', 'B'], dtype=object)"
      ]
     },
     "execution_count": 198,
     "metadata": {},
     "output_type": "execute_result"
    }
   ],
   "source": [
    "df['Branch'].unique()"
   ]
  },
  {
   "cell_type": "code",
   "execution_count": 199,
   "id": "8d44a049",
   "metadata": {},
   "outputs": [
    {
     "data": {
      "text/plain": [
       "Branch\n",
       "A    340\n",
       "B    332\n",
       "C    328\n",
       "Name: count, dtype: int64"
      ]
     },
     "execution_count": 199,
     "metadata": {},
     "output_type": "execute_result"
    }
   ],
   "source": [
    "df['Branch'].value_counts()"
   ]
  },
  {
   "cell_type": "markdown",
   "id": "6d7e56f1",
   "metadata": {},
   "source": [
    "## 3 - \"Yangon\" Column"
   ]
  },
  {
   "cell_type": "code",
   "execution_count": 200,
   "id": "a60b6fe7",
   "metadata": {},
   "outputs": [
    {
     "data": {
      "text/plain": [
       "array([1, 0], dtype=int64)"
      ]
     },
     "execution_count": 200,
     "metadata": {},
     "output_type": "execute_result"
    }
   ],
   "source": [
    "df['Yangon'].unique()"
   ]
  },
  {
   "cell_type": "code",
   "execution_count": 201,
   "id": "e6ca7970",
   "metadata": {},
   "outputs": [
    {
     "data": {
      "text/plain": [
       "Yangon\n",
       "0    660\n",
       "1    340\n",
       "Name: count, dtype: int64"
      ]
     },
     "execution_count": 201,
     "metadata": {},
     "output_type": "execute_result"
    }
   ],
   "source": [
    "df['Yangon'].value_counts()"
   ]
  },
  {
   "cell_type": "markdown",
   "id": "20b623b8",
   "metadata": {},
   "source": [
    "## 4 - \"Naypyitaw\" Column"
   ]
  },
  {
   "cell_type": "code",
   "execution_count": 202,
   "id": "f377ff92",
   "metadata": {},
   "outputs": [
    {
     "data": {
      "text/plain": [
       "array([0, 1], dtype=int64)"
      ]
     },
     "execution_count": 202,
     "metadata": {},
     "output_type": "execute_result"
    }
   ],
   "source": [
    "df['Naypyitaw'].unique()"
   ]
  },
  {
   "cell_type": "code",
   "execution_count": 203,
   "id": "eab94738",
   "metadata": {},
   "outputs": [
    {
     "data": {
      "text/plain": [
       "Naypyitaw\n",
       "0    672\n",
       "1    328\n",
       "Name: count, dtype: int64"
      ]
     },
     "execution_count": 203,
     "metadata": {},
     "output_type": "execute_result"
    }
   ],
   "source": [
    "df['Naypyitaw'].value_counts()"
   ]
  },
  {
   "cell_type": "markdown",
   "id": "d745120b",
   "metadata": {},
   "source": [
    "## 5 - \"Mandalay\" Column"
   ]
  },
  {
   "cell_type": "code",
   "execution_count": 204,
   "id": "47465866",
   "metadata": {},
   "outputs": [
    {
     "data": {
      "text/plain": [
       "array([0, 1], dtype=int64)"
      ]
     },
     "execution_count": 204,
     "metadata": {},
     "output_type": "execute_result"
    }
   ],
   "source": [
    "df['Mandalay'].unique()"
   ]
  },
  {
   "cell_type": "code",
   "execution_count": 205,
   "id": "17fca541",
   "metadata": {},
   "outputs": [
    {
     "data": {
      "text/plain": [
       "Mandalay\n",
       "0    668\n",
       "1    332\n",
       "Name: count, dtype: int64"
      ]
     },
     "execution_count": 205,
     "metadata": {},
     "output_type": "execute_result"
    }
   ],
   "source": [
    "df['Mandalay'].value_counts()"
   ]
  },
  {
   "cell_type": "markdown",
   "id": "2f0081ad",
   "metadata": {},
   "source": [
    "<span style=\"color:#b30000;font-size:20px;\">Problem : Tideness issue as each city presented in separate column </span>"
   ]
  },
  {
   "cell_type": "markdown",
   "id": "5985535b",
   "metadata": {},
   "source": [
    "<span style=\"color:#2929a3;font-size:20px;\">Solution: Create a column named City that contains a single value from the following options: Yangon, Naypyitaw, or Mandalay. </span>"
   ]
  },
  {
   "cell_type": "markdown",
   "id": "50b18a25",
   "metadata": {},
   "source": [
    "<span style=\"color:#2929a3;font-size:20px;\"><b>Code</b> </span>"
   ]
  },
  {
   "cell_type": "code",
   "execution_count": 206,
   "id": "817bc7c5",
   "metadata": {},
   "outputs": [],
   "source": [
    "## Create map_city Function\n",
    "def map_city(row):\n",
    "    if row['Yangon'] == 1:\n",
    "        return 'Yangon'\n",
    "    elif row['Naypyitaw'] == 1:\n",
    "        return 'Naypyitaw'\n",
    "    elif row['Mandalay'] == 1:\n",
    "        return 'Mandalay'\n",
    "    else:\n",
    "        return 'None'"
   ]
  },
  {
   "cell_type": "code",
   "execution_count": 207,
   "id": "70cd3ee6",
   "metadata": {},
   "outputs": [],
   "source": [
    "## Apply map_city Function to the dataframe\n",
    "df['City'] = df.apply(map_city, axis=1)"
   ]
  },
  {
   "cell_type": "markdown",
   "id": "c3ea9f8b",
   "metadata": {},
   "source": [
    "<span style=\"color:#2929a3;font-size:20px;\"><b>Test</b> </span>"
   ]
  },
  {
   "cell_type": "code",
   "execution_count": 208,
   "id": "4865af16",
   "metadata": {},
   "outputs": [
    {
     "data": {
      "text/plain": [
       "array(['Yangon', 'Naypyitaw', 'Mandalay'], dtype=object)"
      ]
     },
     "execution_count": 208,
     "metadata": {},
     "output_type": "execute_result"
    }
   ],
   "source": [
    "df['City'].unique()"
   ]
  },
  {
   "cell_type": "code",
   "execution_count": 209,
   "id": "1b7538f0",
   "metadata": {},
   "outputs": [
    {
     "data": {
      "text/plain": [
       "City\n",
       "Yangon       340\n",
       "Mandalay     332\n",
       "Naypyitaw    328\n",
       "Name: count, dtype: int64"
      ]
     },
     "execution_count": 209,
     "metadata": {},
     "output_type": "execute_result"
    }
   ],
   "source": [
    "df['City'].value_counts()"
   ]
  },
  {
   "cell_type": "code",
   "execution_count": 210,
   "id": "06e8d0cf",
   "metadata": {},
   "outputs": [],
   "source": [
    "### Drop Columns ('Yangon', 'Naypyitaw', 'Mandalay')\n",
    "df.drop(['Yangon', 'Naypyitaw', 'Mandalay'], axis=1, inplace=True)"
   ]
  },
  {
   "cell_type": "code",
   "execution_count": 211,
   "id": "6fc03316",
   "metadata": {},
   "outputs": [
    {
     "data": {
      "text/plain": [
       "0"
      ]
     },
     "execution_count": 211,
     "metadata": {},
     "output_type": "execute_result"
    }
   ],
   "source": [
    "### Check Duplicates\n",
    "df.duplicated().sum()"
   ]
  },
  {
   "cell_type": "code",
   "execution_count": 212,
   "id": "2bf26d30",
   "metadata": {},
   "outputs": [
    {
     "data": {
      "text/plain": [
       "Index(['Invoice ID', 'Branch', 'Customer type', 'Gender', 'Product line',\n",
       "       'Unit price', 'Quantity', 'Tax 5%', 'Total', 'Date', 'Time', 'Payment',\n",
       "       'Rating', 'City'],\n",
       "      dtype='object')"
      ]
     },
     "execution_count": 212,
     "metadata": {},
     "output_type": "execute_result"
    }
   ],
   "source": [
    "### Show Columns\n",
    "df.columns"
   ]
  },
  {
   "cell_type": "markdown",
   "id": "487f299e",
   "metadata": {},
   "source": [
    "## 6 - \"Customer type\" Column"
   ]
  },
  {
   "cell_type": "code",
   "execution_count": 213,
   "id": "8ee49256",
   "metadata": {},
   "outputs": [
    {
     "data": {
      "text/plain": [
       "array(['Normal', '-', 'Member', 'Memberr'], dtype=object)"
      ]
     },
     "execution_count": 213,
     "metadata": {},
     "output_type": "execute_result"
    }
   ],
   "source": [
    "df['Customer type'].unique()"
   ]
  },
  {
   "cell_type": "markdown",
   "id": "9f8c3be4",
   "metadata": {},
   "source": [
    "<span style=\"color:#b30000;font-size:20px;\">Problem : Customer Type has \"-\" instead of NaN and values ['Member', 'Memberr'] which are the same meaning </span>"
   ]
  },
  {
   "cell_type": "markdown",
   "id": "914f75a0",
   "metadata": {},
   "source": [
    "<span style=\"color:#2929a3;font-size:20px;\">Solution : Replace \"-\" with NaN </span>"
   ]
  },
  {
   "cell_type": "markdown",
   "id": "b50e405b",
   "metadata": {},
   "source": [
    "<span style=\"color:#2929a3;font-size:20px;\"><b>Code</b> </span>"
   ]
  },
  {
   "cell_type": "code",
   "execution_count": 214,
   "id": "367de473",
   "metadata": {},
   "outputs": [],
   "source": [
    "### Create fix_customerType Fucntion\n",
    "def fix_customerType(v):\n",
    "    if v == '-':\n",
    "        return np.nan\n",
    "    elif v in ['Member', 'Memberr']:\n",
    "        return 'Member'\n",
    "    else:\n",
    "        return v"
   ]
  },
  {
   "cell_type": "code",
   "execution_count": 215,
   "id": "727fece4",
   "metadata": {},
   "outputs": [],
   "source": [
    "### Apply fix_customerType Function\n",
    "df['Customer type'] = df['Customer type'].apply(fix_customerType)"
   ]
  },
  {
   "cell_type": "markdown",
   "id": "e53732d8",
   "metadata": {},
   "source": [
    "<span style=\"color:#2929a3;font-size:20px;\"><b>Test</b> </span>"
   ]
  },
  {
   "cell_type": "code",
   "execution_count": 216,
   "id": "c6904d6b",
   "metadata": {},
   "outputs": [
    {
     "data": {
      "text/plain": [
       "array(['Normal', nan, 'Member'], dtype=object)"
      ]
     },
     "execution_count": 216,
     "metadata": {},
     "output_type": "execute_result"
    }
   ],
   "source": [
    "df['Customer type'].unique()"
   ]
  },
  {
   "cell_type": "markdown",
   "id": "e279b1fd",
   "metadata": {},
   "source": [
    "<span style=\"color:#b30000;font-size:20px;\">Problem: Customer Type has NaN values </span>\n"
   ]
  },
  {
   "cell_type": "markdown",
   "id": "fe630402",
   "metadata": {},
   "source": [
    "<span style=\"color:#2929a3;font-size:20px;\">Solution : Impute missing values with mode </span>"
   ]
  },
  {
   "cell_type": "markdown",
   "id": "e7ae520d",
   "metadata": {},
   "source": [
    "<span style=\"color:#2929a3;font-size:20px;\"><b>Code</b> </span>"
   ]
  },
  {
   "cell_type": "code",
   "execution_count": 217,
   "id": "039f0ebf",
   "metadata": {},
   "outputs": [
    {
     "data": {
      "text/plain": [
       "27"
      ]
     },
     "execution_count": 217,
     "metadata": {},
     "output_type": "execute_result"
    }
   ],
   "source": [
    "df['Customer type'].isnull().sum()"
   ]
  },
  {
   "cell_type": "code",
   "execution_count": 218,
   "id": "fe745845",
   "metadata": {},
   "outputs": [
    {
     "data": {
      "text/plain": [
       "0    Normal\n",
       "Name: Customer type, dtype: object"
      ]
     },
     "execution_count": 218,
     "metadata": {},
     "output_type": "execute_result"
    }
   ],
   "source": [
    "df['Customer type'].mode()"
   ]
  },
  {
   "cell_type": "code",
   "execution_count": 219,
   "id": "98dec9c7",
   "metadata": {},
   "outputs": [],
   "source": [
    "### Impute Missing Values With Mode Value\n",
    "df['Customer type'].fillna(df['Customer type'].mode()[0], inplace=True)"
   ]
  },
  {
   "cell_type": "markdown",
   "id": "bb2ed94a",
   "metadata": {},
   "source": [
    "<span style=\"color:#2929a3;font-size:20px;\"><b>Test</b> </span>"
   ]
  },
  {
   "cell_type": "code",
   "execution_count": 220,
   "id": "f2d1c668",
   "metadata": {},
   "outputs": [
    {
     "data": {
      "text/plain": [
       "0"
      ]
     },
     "execution_count": 220,
     "metadata": {},
     "output_type": "execute_result"
    }
   ],
   "source": [
    "df['Customer type'].isnull().sum()"
   ]
  },
  {
   "cell_type": "markdown",
   "id": "87ec5b6f",
   "metadata": {},
   "source": [
    "## 7 - \"Gender\" Column"
   ]
  },
  {
   "cell_type": "code",
   "execution_count": 221,
   "id": "afa2fb8c",
   "metadata": {},
   "outputs": [
    {
     "data": {
      "text/plain": [
       "array(['Male', 'Female'], dtype=object)"
      ]
     },
     "execution_count": 221,
     "metadata": {},
     "output_type": "execute_result"
    }
   ],
   "source": [
    "df['Gender'].unique()"
   ]
  },
  {
   "cell_type": "code",
   "execution_count": 222,
   "id": "419e1df0",
   "metadata": {},
   "outputs": [
    {
     "data": {
      "text/plain": [
       "Gender\n",
       "Male      523\n",
       "Female    477\n",
       "Name: count, dtype: int64"
      ]
     },
     "execution_count": 222,
     "metadata": {},
     "output_type": "execute_result"
    }
   ],
   "source": [
    "df['Gender'].value_counts()"
   ]
  },
  {
   "cell_type": "markdown",
   "id": "bf381755",
   "metadata": {},
   "source": [
    "## 8 - \"Product line\" Column"
   ]
  },
  {
   "cell_type": "code",
   "execution_count": 223,
   "id": "1c9b9bc4",
   "metadata": {},
   "outputs": [
    {
     "data": {
      "text/plain": [
       "array(['Health and beauty', 'Electronic accessories',\n",
       "       'Home and lifestyle', 'Sports and travel', 'Food and beverages',\n",
       "       'Fashion accessories'], dtype=object)"
      ]
     },
     "execution_count": 223,
     "metadata": {},
     "output_type": "execute_result"
    }
   ],
   "source": [
    "df['Product line'].unique()"
   ]
  },
  {
   "cell_type": "code",
   "execution_count": 224,
   "id": "140c21ac",
   "metadata": {},
   "outputs": [
    {
     "data": {
      "text/plain": [
       "Product line\n",
       "Fashion accessories       178\n",
       "Food and beverages        174\n",
       "Electronic accessories    170\n",
       "Sports and travel         166\n",
       "Home and lifestyle        160\n",
       "Health and beauty         152\n",
       "Name: count, dtype: int64"
      ]
     },
     "execution_count": 224,
     "metadata": {},
     "output_type": "execute_result"
    }
   ],
   "source": [
    "df['Product line'].value_counts()"
   ]
  },
  {
   "cell_type": "markdown",
   "id": "a03676a5",
   "metadata": {},
   "source": [
    "## 9 - \"Unit Price\" Column"
   ]
  },
  {
   "cell_type": "code",
   "execution_count": 225,
   "id": "4bd6a4a2",
   "metadata": {},
   "outputs": [
    {
     "data": {
      "text/plain": [
       "array(['74.69', '15.28', '46.33', '58.22', '86.31', '85.39', '68.84',\n",
       "       '73.56', '36.26', '54.84', '14.48', '25.51', '46.95', '43.19',\n",
       "       '71.38', '93.72', '68.93', '72.61', '54.67', '40.3', '86.04',\n",
       "       '87.98', '33.2', '34.56', '88.63', '52.59', '33.52', '87.67',\n",
       "       '88.36', '24.89', '94.13', '78.07', '83.78', '96.58', '99.42',\n",
       "       '68.12', '62.62', '60.88', '54.92', '30.12', '86.72', '56.11',\n",
       "       '69.12', '98.7', '15.37', '93.96', '56.69', '20.01', '18.93',\n",
       "       '82.63', '91.4', '44.59', '17.87', '15.43', '16.16', '85.98',\n",
       "       '44.34', '89.6', '72.35', '30.61', '24.74', '55.73', '55.07',\n",
       "       '15.81', '75.74', '15.87', '33.47', '97.61', '78.77', '18.33',\n",
       "       '89.48', '62.12', '48.52', '75.91', '74.67', '41.65', '49.04',\n",
       "       '78.31', '20.38', '99.19', '96.68', '19.25', '80.36', '48.91',\n",
       "       '83.06', '76.52', '49.38', '42.47', '76.99', '47.38', '44.86',\n",
       "       '21.98', '64.36', '89.75', '97.16', '87.87', '12.45 USD', '52.75',\n",
       "       '82.7', '48.71', '78.55', '23.07', '58.26', '30.35', '88.67',\n",
       "       '27.38', '62.13', '33.98', '81.97', '16.49', '98.21', '72.84',\n",
       "       '58.07', '80.79', '27.02', '21.94', '51.36', '10.96', '53.44',\n",
       "       '99.56', '57.12', '99.96', '63.91', '56.47', '93.69', '32.25',\n",
       "       '31.73', '68.54', '90.28', '39.62', '92.13', '34.84', '87.45',\n",
       "       '81.3', '90.22', '26.31', '34.42', '51.91', '72.5', '89.8', '90.5',\n",
       "       '68.6', '30.41', '77.95', '46.26', '30.14', '66.14', '71.86',\n",
       "       '32.46', '91.54', '83.24', '16.48', '80.97', '92.29', '72.17',\n",
       "       '50.28', '97.22', '93.39', '43.18', '63.69', '45.79', '76.4',\n",
       "       '39.9', '42.57', '95.58', '98.98', '51.28', '69.52', '70.01',\n",
       "       '80.05', '20.85', '52.89', '19.79', '33.84', '22.17', '22.51',\n",
       "       '73.88', '86.8', '64.26', '38.47', '15.5', '34.31', '12.34',\n",
       "       '18.08', '94.49', '46.47', '74.07', '69.81', '77.04', '73.52',\n",
       "       '87.8', '25.55', '32.71', '74.29', '43.7', '25.29', '41.5',\n",
       "       '71.39', '19.15', '57.49', '61.41', '25.9', '17.77', '23.03',\n",
       "       '66.65', '28.53', '30.37', '99.73', '26.23', '93.26', '92.36',\n",
       "       '46.42', '29.61', '18.28', '24.77', '94.64', '94.87', '57.34',\n",
       "       '45.35', '62.08', '11.81', '12.54', '43.25', '87.16', '69.37',\n",
       "       '37.06', '90.7', '63.42', '81.37', '10.59', '84.09', '73.82',\n",
       "       '51.94', '93.14', '17.41', '44.22', '13.22', '89.69', '24.94',\n",
       "       '59.77', '93.2', '62.65', '93.87', '47.59', '81.4', '17.94',\n",
       "       '77.72', '73.06', '46.55', '35.19', '14.39', '23.75', '58.9',\n",
       "       '32.62', '66.35', '25.91', '65.94', '75.06', '16.45', '38.3',\n",
       "       '22.24', '54.45', '98.4', '35.47', '74.6', '70.74', '35.54',\n",
       "       '67.43', '21.12', '21.54', '12.03', '99.71', '47.97', '21.82',\n",
       "       '95.42', '70.99', '44.02', '69.96', '37', '15.34', '99.83',\n",
       "       '47.67', '66.68', '74.86', '48.51', '94.88', '27.85', '62.48',\n",
       "       '36.36', '18.11', '51.92', '28.84', '78.38', '60.01', '88.61',\n",
       "       '99.82', '39.01', '48.61', '51.19', '14.96', '72.2', '40.23',\n",
       "       '88.79', '26.48', '81.91', '79.93', '69.33', '14.23', '15.55',\n",
       "       '78.13', '99.37', '21.08', '74.79', '29.67', '44.07', '22.93',\n",
       "       '39.42', '15.26', '61.77', '21.52', '97.74', '99.78', '94.26',\n",
       "       '51.13', '22.02', '32.9', '77.02', '23.48', '14.7', '28.45',\n",
       "       '57.95', '47.65', '42.82', '48.09', '55.97', '76.9', '97.03',\n",
       "       '44.65', '77.93', '71.95', '89.25', '26.02', '13.5', '99.3',\n",
       "       '51.69', '54.73', '27', '30.24', '89.14', '37.55', '95.44', '27.5',\n",
       "       '74.97', '80.96', '94.47', '99.79', '73.22', '41.24', '81.68',\n",
       "       '51.32', '14.36', '21.5', '26.26', '60.96', '70.11', '42.08',\n",
       "       '67.09', '96.7', '35.38', '95.49', '96.98', '23.65', '82.33',\n",
       "       '26.61', '99.69', '74.89', '40.94', '75.82', '46.77', '32.32',\n",
       "       '54.07', '18.22', '80.48', '37.95', '76.82', '52.26', '79.74',\n",
       "       '77.5', '54.27', '13.59', '41.06', '19.24', '39.43', '46.22',\n",
       "       '13.98', '39.75', '97.79', '67.26', '13.79', '68.71', '56.53',\n",
       "       '23.82', '34.21', '21.87', '20.97', '25.84', '50.93', '96.11',\n",
       "       '45.38', '81.51', '57.22', '25.22', '38.6', '84.05', '97.21',\n",
       "       '25.42', '16.28', '40.61', '53.17', '20.87', '67.27', '90.65',\n",
       "       '69.08', '43.27', '23.46', '95.54', '47.44', '99.24', '82.93',\n",
       "       '33.99', '17.04', '40.86', '17.44', '88.43', '89.21', '12.78',\n",
       "       '19.1', '27.66', '45.74', '27.07', '39.12', '74.71', '22.01',\n",
       "       '63.61', '25', '20.77', '29.56', '77.4', '79.39', '46.57', '35.89',\n",
       "       '40.52', '73.05', '73.95', '22.62', '51.34', '54.55', '37.15',\n",
       "       '37.02', '21.58', '98.84', '83.77', '40.05', '43.13', '72.57',\n",
       "       '64.44', '65.18', '33.26', '84.07', '34.37', '65.97', '32.8',\n",
       "       '37.14', '60.38', '36.98', '49.49', '41.09', '22.96', '77.68',\n",
       "       '34.7', '19.66', '25.32', '12.12', '99.89', '75.92', '63.22',\n",
       "       '90.24', '98.13', '51.52', '73.97', '31.9', '69.4', '93.31',\n",
       "       '88.45', '24.18', '48.5', '61.29', '15.95', '90.74', '42.91',\n",
       "       '54.28', '99.55', '58.39', '51.47', '54.86', '39.39', '34.73',\n",
       "       '71.92', '45.71', '83.17', '37.44', '62.87', '81.71', '91.41',\n",
       "       '39.21', '59.86', '54.36', '98.09', '25.43', '86.68', '22.95',\n",
       "       '16.31', '28.32', '16.67', '73.96', '97.94', '87.48', '30.68',\n",
       "       '75.88', '20.18', '18.77', '71.2', '38.81', '29.42', '60.95',\n",
       "       '51.54', '66.06', '57.27', '54.31', '58.24', '22.21', '19.32',\n",
       "       '37.48', '72.04', '98.52', '41.66', '72.42', '89.2', '42.42',\n",
       "       '74.51', '99.25', '81.21', '49.33', '65.74', '79.86', '73.98',\n",
       "       '82.04', '26.67', '10.13', '72.39', '85.91', '81.31', '60.3',\n",
       "       '31.77', '64.27', '69.51', '27.22', '92.98', '63.06', '51.71',\n",
       "       '52.34', '43.06', '59.61', '14.62', '46.53', '24.24', '45.58',\n",
       "       '75.2', '96.8', '14.82', '52.2', '46.66', '36.85', '70.32',\n",
       "       '83.08', '64.99', '77.56', '54.51', '51.89', '31.75', '53.65',\n",
       "       '49.79', '57.89', '28.96', '98.97', '93.22', '80.93', '67.45',\n",
       "       '38.72', '72.6', '87.91', '98.53', '43.46', '71.68', '91.61',\n",
       "       '94.59', '83.25', '91.35', '78.88', '60.87', '82.58', '53.3',\n",
       "       '12.09 USD', '64.19', '99.7', '79.91', '66.47', '28.95', '46.2',\n",
       "       '17.63', '52.42', '98.79', '88.55', '55.67', '72.52', '12.05',\n",
       "       '19.36', '70.21', '33.63', '15.49', '75.66', '55.81', '72.78',\n",
       "       '37.32', '60.18', '15.69', '88.15', '27.93', '55.45', '42.97',\n",
       "       '17.14', '58.75', '87.1', '98.8', '48.63', '57.74', '17.97',\n",
       "       '47.71', '40.62', '56.04', '93.4', '73.41', '33.64', '45.48',\n",
       "       '64.08', '73.47', '58.95', '39.48', '34.81', '49.32', '21.48',\n",
       "       '23.08', '49.1', '64.83', '63.56', '72.88', '67.1', '70.19',\n",
       "       '55.04', '73.38', '52.6', '87.37', '27.04', '62.19', '69.58',\n",
       "       '97.5', '60.41', '19.77', '80.47', '88.39', '71.77', '43', '68.98',\n",
       "       '15.62', '25.7', '80.62', '75.53', '77.63', '13.85', '35.68',\n",
       "       '71.46', '11.94', '17.48', '25.56', '90.63', '44.12', '36.77',\n",
       "       '23.34', '28.5', '55.57', '69.74', '97.26', '52.18', '22.32', '56',\n",
       "       '19.7', '53.72', '81.95', '81.2', '58.76', '91.56', '55.61',\n",
       "       '84.83', '71.63', '37.69', '31.67', '38.42', '65.23', '10.53',\n",
       "       '12.29', '81.23', '27.28', '17.42', '73.28', '84.87', '97.29',\n",
       "       '35.74', '96.52', '18.85', '55.39', '77.2', '72.13', '63.88',\n",
       "       '10.69', '55.5', '95.46', '76.06', '13.69', '95.64', '11.43',\n",
       "       '85.87', '67.99', '65.65', '28.86', '65.31', '93.38', '25.25',\n",
       "       '21.8', '94.76', '30.62', '44.01', '10.16', '74.58', '71.89',\n",
       "       '10.99', '60.47', '58.91', '46.41', '68.55', '97.37', '92.6',\n",
       "       '46.61', '27.18', '24.49', '92.78', '86.69', '23.01', '30.2',\n",
       "       '67.39', '48.96', '75.59', '77.47', '93.18', '50.23', '17.75',\n",
       "       '62.18', '10.75', '40.26', '64.97', '95.15', '48.62', '53.21',\n",
       "       '45.44', '33.88', '96.16', '47.16', '47.68', '10.17', '60.08',\n",
       "       '72.11', '41.28', '64.95', '74.22', '10.56 USD', '62.57', '11.85',\n",
       "       '91.3', '40.73', '52.38', '38.54', '44.63', '55.87', '29.22',\n",
       "       '39.47', '14.87', '21.32', '93.78', '73.26', '22.38', '99.1',\n",
       "       '74.1', '98.48', '53.19', '52.79', '95.95', '36.51', '28.31',\n",
       "       '57.59', '47.63', '86.27', '12.76', '11.28', '51.07', '79.59',\n",
       "       '33.81', '90.53', '62.82', '24.31', '64.59', '24.82', '56.5',\n",
       "       '21.43', '89.06', '23.29', '65.26', '52.35', '90.02', '12.1',\n",
       "       '33.21', '10.18 USD', '31.99', '83.34', '87.9', '12.19', '76.92',\n",
       "       '83.66', '57.91', '92.49', '28.38', '50.45', '99.16', '60.74',\n",
       "       '47.27', '85.6', '35.04', '44.84', '45.97', '27.73', '11.53 USD',\n",
       "       '58.32', '84.61', '82.88', '79.54', '49.01', '29.15', '56.13',\n",
       "       '93.12', '99.6', '35.49', '42.85', '94.67', '68.97', '35.79',\n",
       "       '16.37', '12.73', '83.14', '35.22', '13.78', '88.31', '88.25',\n",
       "       '25.31', '99.92', '83.35', '74.44', '63.15', '85.72', '78.89',\n",
       "       '92.09', '57.29', '66.52', '45.68', '50.79', '10.08', '93.88',\n",
       "       '84.25', '53.78', '35.81', '26.43', '39.91', '21.9', '62.85',\n",
       "       '21.04', '65.91', '50.49', '46.02', '15.8', '98.66', '91.98',\n",
       "       '20.89', '96.82', '33.33', '38.27', '33.3', '81.01', '34.49',\n",
       "       '84.63', '36.91', '87.08', '80.08', '86.13', '49.92', '74.66',\n",
       "       '26.6', '25.45', '67.77', '59.59', '58.15', '97.48', '96.37',\n",
       "       '63.71', '14.76', '62', '82.34', '75.37', '56.56', '76.6', '58.03',\n",
       "       '17.49', '40.35', '97.38', '31.84', '65.82', '88.34'], dtype=object)"
      ]
     },
     "execution_count": 225,
     "metadata": {},
     "output_type": "execute_result"
    }
   ],
   "source": [
    "df['Unit price'].unique()"
   ]
  },
  {
   "cell_type": "markdown",
   "id": "aa527a54",
   "metadata": {},
   "source": [
    "<span style=\"color:#b30000;font-size:20px;\">Problem : Unit Price Column has value contain \"USD\" value which makes the column String </span>"
   ]
  },
  {
   "cell_type": "markdown",
   "id": "eb91397b",
   "metadata": {},
   "source": [
    "<span style=\"color:#2929a3;font-size:20px;\">Solution : Create function to remove the USD value and convert all values to float </span>"
   ]
  },
  {
   "cell_type": "markdown",
   "id": "964851cb",
   "metadata": {},
   "source": [
    "<span style=\"color:#2929a3;font-size:20px;\"><b>Code</b> </span>"
   ]
  },
  {
   "cell_type": "code",
   "execution_count": 226,
   "id": "1eecaa61",
   "metadata": {},
   "outputs": [],
   "source": [
    "### Create fix_unitPrice Function\n",
    "def fix_untiPrice(v):\n",
    "    if \"USD\" in v:\n",
    "        return float(v[:-4])\n",
    "    else:\n",
    "        return float(v)"
   ]
  },
  {
   "cell_type": "code",
   "execution_count": 227,
   "id": "ce0aaa49",
   "metadata": {},
   "outputs": [],
   "source": [
    "### Apply fix_unitPrice Funcion\n",
    "df['Unit price'] = df['Unit price'].apply(fix_untiPrice)"
   ]
  },
  {
   "cell_type": "markdown",
   "id": "303aac92",
   "metadata": {},
   "source": [
    "<span style=\"color:#2929a3;font-size:20px;\"><b>Test</b> </span>"
   ]
  },
  {
   "cell_type": "code",
   "execution_count": 228,
   "id": "d069acb5",
   "metadata": {},
   "outputs": [
    {
     "data": {
      "text/plain": [
       "dtype('float64')"
      ]
     },
     "execution_count": 228,
     "metadata": {},
     "output_type": "execute_result"
    }
   ],
   "source": [
    "df['Unit price'].dtype"
   ]
  },
  {
   "cell_type": "markdown",
   "id": "0919d56c",
   "metadata": {},
   "source": [
    "## 10 - \"Quantity\" Column"
   ]
  },
  {
   "cell_type": "code",
   "execution_count": 229,
   "id": "d11c04a1",
   "metadata": {},
   "outputs": [
    {
     "data": {
      "text/plain": [
       "count    1000.000000\n",
       "mean        5.462000\n",
       "std         3.012247\n",
       "min        -8.000000\n",
       "25%         3.000000\n",
       "50%         5.000000\n",
       "75%         8.000000\n",
       "max        10.000000\n",
       "Name: Quantity, dtype: float64"
      ]
     },
     "execution_count": 229,
     "metadata": {},
     "output_type": "execute_result"
    }
   ],
   "source": [
    "df['Quantity'].describe()"
   ]
  },
  {
   "cell_type": "markdown",
   "id": "4e6618a4",
   "metadata": {},
   "source": [
    "<span style=\"color:#b30000;font-size:20px;\">Problem : Quantity Column has negative values </span>"
   ]
  },
  {
   "cell_type": "markdown",
   "id": "6497e0d6",
   "metadata": {},
   "source": [
    "<span style=\"color:#2929a3;font-size:20px;\">Solution : Take Absolute Value of all values in Quantity Column </span>"
   ]
  },
  {
   "cell_type": "markdown",
   "id": "f1fec906",
   "metadata": {},
   "source": [
    "<span style=\"color:#2929a3;font-size:20px;\"><b>Code</b> </span>"
   ]
  },
  {
   "cell_type": "code",
   "execution_count": 230,
   "id": "0d0b1d79",
   "metadata": {},
   "outputs": [],
   "source": [
    "df['Quantity'] = df['Quantity'].apply(lambda x:abs(x))"
   ]
  },
  {
   "cell_type": "markdown",
   "id": "b64b1f03",
   "metadata": {},
   "source": [
    "<span style=\"color:#2929a3;font-size:20px;\"><b>Test</b> </span>"
   ]
  },
  {
   "cell_type": "code",
   "execution_count": 231,
   "id": "f444cf79",
   "metadata": {},
   "outputs": [
    {
     "data": {
      "text/plain": [
       "count    1000.000000\n",
       "mean        5.510000\n",
       "std         2.923431\n",
       "min         1.000000\n",
       "25%         3.000000\n",
       "50%         5.000000\n",
       "75%         8.000000\n",
       "max        10.000000\n",
       "Name: Quantity, dtype: float64"
      ]
     },
     "execution_count": 231,
     "metadata": {},
     "output_type": "execute_result"
    }
   ],
   "source": [
    "df['Quantity'].describe()"
   ]
  },
  {
   "cell_type": "markdown",
   "id": "fd14c550",
   "metadata": {},
   "source": [
    "## 10 - \"Tax 5%\" Column"
   ]
  },
  {
   "cell_type": "code",
   "execution_count": 232,
   "id": "57c23b58",
   "metadata": {},
   "outputs": [
    {
     "data": {
      "text/plain": [
       "count    991.000000\n",
       "mean      15.447993\n",
       "std       11.718333\n",
       "min        0.508500\n",
       "25%        5.986250\n",
       "50%       12.151500\n",
       "75%       22.539500\n",
       "max       49.650000\n",
       "Name: Tax 5%, dtype: float64"
      ]
     },
     "execution_count": 232,
     "metadata": {},
     "output_type": "execute_result"
    }
   ],
   "source": [
    "df['Tax 5%'].describe()"
   ]
  },
  {
   "cell_type": "code",
   "execution_count": 233,
   "id": "25731bfb",
   "metadata": {},
   "outputs": [
    {
     "data": {
      "application/vnd.plotly.v1+json": {
       "config": {
        "plotlyServerURL": "https://plot.ly"
       },
       "data": [
        {
         "alignmentgroup": "True",
         "hovertemplate": "Tax 5%=%{x}<extra></extra>",
         "legendgroup": "",
         "marker": {
          "color": "#636efa"
         },
         "name": "",
         "notched": false,
         "offsetgroup": "",
         "orientation": "h",
         "showlegend": false,
         "type": "box",
         "x": [
          26.1415,
          3.82,
          16.2155,
          null,
          30.2085,
          29.8865,
          20.652,
          36.78,
          null,
          8.226,
          2.896,
          5.102,
          11.7375,
          21.595,
          35.69,
          28.116,
          24.1255,
          21.783,
          8.2005,
          4.03,
          21.51,
          13.197,
          3.32,
          8.64,
          13.2945,
          21.036,
          1.676,
          8.767,
          22.09,
          11.2005,
          23.5325,
          35.1315,
          33.512,
          9.658,
          19.884,
          3.406,
          15.655,
          27.396,
          21.968,
          12.048,
          4.336,
          5.611,
          20.736,
          39.48,
          1.537,
          18.792,
          25.5105,
          9.0045,
          5.679,
          41.315,
          31.99,
          11.1475,
          3.574,
          0.7715,
          1.616,
          34.392,
          4.434,
          35.84,
          36.175,
          9.183,
          3.711,
          16.719,
          24.7815,
          7.905,
          15.148,
          7.935,
          3.347,
          29.283,
          39.385,
          0.9165,
          44.74,
          31.06,
          7.278,
          22.773,
          33.6015,
          20.825,
          22.068,
          9.0045,
          39.155,
          5.095,
          29.757,
          14.502,
          7.7,
          16.072,
          12.2275,
          29.071,
          null,
          17.283,
          2.1235,
          23.097,
          9.476,
          22.43,
          null,
          28.962,
          4.4875,
          4.858,
          43.935,
          null,
          7.9125,
          24.81,
          2.4355,
          35.3475,
          10.3815,
          17.478,
          10.6225,
          44.335,
          8.214,
          18.639,
          15.291,
          40.985,
          1.649,
          14.7315,
          25.494,
          26.1315,
          36.3555,
          4.053,
          5.485,
          2.568,
          5.48,
          5.344,
          39.824,
          19.992,
          44.982,
          25.564,
          22.588,
          32.7915,
          8.0625,
          14.2785,
          27.416,
          40.626,
          13.867,
          27.639,
          6.968,
          26.235,
          24.39,
          13.533,
          6.5775,
          10.326,
          25.955,
          29,
          44.9,
          45.25,
          34.3,
          1.5205,
          23.385,
          13.878,
          15.07,
          13.228,
          28.744,
          12.984,
          18.308,
          12.096,
          37.458,
          4.944,
          32.388,
          23.0725,
          3.6085,
          12.57,
          43.749,
          28.017,
          17.272,
          3.1845,
          16.0265,
          7.64,
          19.95,
          17.028,
          47.79,
          49.49,
          15.384,
          24.332,
          17.5025,
          20.0125,
          8.34,
          15.867,
          7.916,
          15.228,
          8.868,
          7.8785,
          22.164,
          13.02,
          22.491,
          15.388,
          7.75,
          13.724,
          4.319,
          2.712,
          37.796,
          9.294,
          3.7035,
          13.962,
          11.556,
          7.352,
          39.51,
          5.11,
          8.1775,
          3.7145,
          4.37,
          1.2645,
          8.3,
          17.8475,
          5.745,
          11.498,
          21.4935,
          12.95,
          4.4425,
          10.3635,
          29.9925,
          14.265,
          4.5555,
          44.8785,
          11.8035,
          41.967,
          23.09,
          6.963,
          10.3635,
          0.914,
          6.1925,
          14.196,
          37.948,
          8.601,
          13.605,
          21.728,
          2.9525,
          0.627,
          4.325,
          8.716,
          31.2165,
          7.412,
          27.21,
          25.368,
          8.137,
          1.5885,
          37.8405,
          14.764,
          25.97,
          9.314,
          4.3525,
          11.055,
          3.305,
          4.4845,
          11.223,
          5.977,
          9.32,
          12.53,
          37.548,
          19.036,
          12.21,
          4.485,
          15.544,
          25.571,
          20.9475,
          17.595,
          1.439,
          4.75,
          23.56,
          6.524,
          3.3175,
          7.773,
          6.45,
          13.188,
          33.777,
          3.29,
          7.66,
          11.12,
          2.7225,
          34.44,
          7.094,
          37.3,
          14.148,
          17.77,
          16.8575,
          2.112,
          9.693,
          1.203,
          29.913,
          16.7895,
          10.91,
          19.084,
          35.495,
          22.01,
          27.984,
          1.85,
          0.767,
          29.949,
          9.534,
          16.67,
          3.743,
          10.6875,
          16.9785,
          33.208,
          20.15,
          9.7475,
          3.124,
          3.636,
          9.055,
          12.98,
          5.768,
          23.514,
          12.002,
          4.4305,
          9.982,
          1.9505,
          2.4305,
          10.238,
          5.984,
          25.27,
          14.0805,
          35.516,
          3.972,
          8.191,
          23.979,
          6.933,
          3.5575,
          6.9975,
          39.065,
          9.937,
          3.162,
          18.6975,
          10.3845,
          8.814,
          10.3185,
          1.971,
          4.578,
          15.4425,
          6.456,
          19.548,
          24.945,
          18.852,
          10.226,
          7.272,
          9.909,
          4.935,
          19.255,
          2.348,
          3.675,
          7.1125,
          34.38,
          17.385,
          7.1475,
          19.269,
          7.2135,
          19.5895,
          26.915,
          24.2575,
          6.6975,
          35.0685,
          3.5975,
          35.7,
          9.107,
          6.75,
          49.65,
          18.0915,
          19.1555,
          12.15,
          1.512,
          17.828,
          18.775,
          47.72,
          4.125,
          3.7485,
          32.384,
          37.788,
          9.979,
          21.966,
          8.248,
          16.336,
          23.094,
          13.188,
          7.18,
          9.675,
          9.191,
          6.096,
          21.033,
          12.624,
          16.7725,
          24.175,
          15.921,
          33.4215,
          19.396,
          4.73,
          16.466,
          2.661,
          24.9225,
          14.978,
          10.235,
          3.791,
          14.031,
          16.16,
          24.3315,
          6.377,
          12.072,
          18.975,
          3.841,
          26.13,
          3.987,
          19.375,
          13.5675,
          6.1155,
          12.318,
          8.658,
          11.829,
          9.244,
          0.699,
          9.9375,
          34.2265,
          13.452,
          3.4475,
          13.742,
          11.306,
          5.955,
          17.105,
          2.187,
          5.2425,
          3.876,
          20.372,
          4.8055,
          9.076,
          4.0755,
          5.722,
          8.827,
          5.79,
          12.6075,
          48.605,
          10.168,
          0.814,
          18.2745,
          18.6095,
          3.1305,
          16.8175,
          45.325,
          6.908,
          4.327,
          7.038,
          33.439,
          2.372,
          44.658,
          16.586,
          10.197,
          3.408,
          16.344,
          4.36,
          35.372,
          40.1445,
          0.639,
          6.685,
          0.9575,
          13.83,
          6.861,
          1.3535,
          1.956,
          22.413,
          6.603,
          15.9025,
          1.25,
          4.154,
          7.39,
          34.83,
          39.695,
          23.285,
          1.7945,
          10.13,
          36.525,
          14.79,
          1.131,
          12.835,
          27.275,
          13.0025,
          11.106,
          1.079,
          4.942,
          25.131,
          8.01,
          21.565,
          29.028,
          16.11,
          9.777,
          8.315,
          16.814,
          17.185,
          1.93,
          26.388,
          16.4,
          9.285,
          30.19,
          18.49,
          9.898,
          20.545,
          7.43,
          1.148,
          34.956,
          3.47,
          9.83,
          10.128,
          6.06,
          9.989,
          30.368,
          6.322,
          27.072,
          4.9065,
          20.608,
          3.6985,
          1.595,
          6.94,
          9.331,
          4.4225,
          9.672,
          7.275,
          25.215,
          15.3225,
          4.785,
          31.759,
          10.7275,
          18.998,
          34.8425,
          20.4365,
          2.5735,
          13.715,
          9.8475,
          3.473,
          17.98,
          6.8565,
          24.951,
          11.232,
          6.287,
          24.513,
          22.8525,
          7.842,
          5.986,
          27.18,
          44.1405,
          7.629,
          34.672,
          11.475,
          7.3395,
          7.08,
          5.8345,
          3.698,
          4.897,
          14.61,
          26.244,
          4.602,
          3.794,
          4.036,
          5.631,
          3.56,
          7.762,
          14.71,
          27.4275,
          12.885,
          19.818,
          8.5905,
          24.4395,
          26.208,
          6.663,
          6.762,
          5.622,
          7.204,
          49.26,
          12.498,
          10.863,
          9.711,
          44.6,
          16.968,
          22.353,
          9.925,
          40.605,
          24.665,
          29.583,
          27.951,
          25.893,
          20.51,
          13.335,
          3.5455,
          7.239,
          21.4775,
          28.4585,
          12.06,
          6.354,
          12.854,
          6.951,
          4.083,
          15.536,
          9.298,
          3.616,
          9.459,
          10.342,
          7.851,
          10.765,
          29.805,
          3.655,
          13.959,
          8.484,
          2.279,
          11.28,
          14.52,
          2.223,
          7.83,
          20.997,
          9.2125,
          7.032,
          4.154,
          3.2495,
          38.78,
          16.353,
          18.1615,
          6.35,
          18.7775,
          9.958,
          1.5305,
          5.789,
          1.448,
          44.5365,
          13.983,
          4.0465,
          33.725,
          17.424,
          21.78,
          21.9775,
          29.559,
          13.038,
          10.752,
          4.5805,
          33.1065,
          41.625,
          4.5675,
          7.888,
          6.087,
          41.29,
          7.995,
          null,
          32.095,
          11.7465,
          8.377,
          14.955,
          11.9865,
          33.235,
          10.1325,
          2.31,
          4.4075,
          7.863,
          14.8185,
          35.42,
          5.567,
          29.008,
          3.0125,
          8.712,
          21.063,
          1.6815,
          1.549,
          12.37,
          18.915,
          16.743,
          36.39,
          16.794,
          12.036,
          2.3535,
          4.9845,
          13.2225,
          6.9825,
          2.7725,
          6.4455,
          5.999,
          17.625,
          43.55,
          9.88,
          9.726,
          8.661,
          3.594,
          14.313,
          4.062,
          28.02,
          9.34,
          11.0115,
          13.456,
          22.74,
          8.377,
          22.428,
          14.694,
          29.475,
          14.55,
          1.974,
          1.7405,
          14.796,
          2.148,
          6.924,
          4.91,
          6.483,
          31.78,
          7.288,
          10.065,
          31.5855,
          19.264,
          24.315,
          25.683,
          23.67,
          21.8425,
          5.408,
          12.438,
          31.311,
          48.75,
          24.164,
          4.848,
          9.885,
          36.2115,
          39.7755,
          25.1195,
          8.6,
          3.449,
          6.248,
          3.855,
          24.186,
          15.106,
          34.9335,
          6.2325,
          39.48,
          8.92,
          25.011,
          1.791,
          6.807,
          5.244,
          8.946,
          40.7835,
          6.618,
          12.8695,
          4.668,
          11.4,
          8.3355,
          34.87,
          19.452,
          18.263,
          4.464,
          8.4,
          0.985,
          26.558,
          2.686,
          40.975,
          28.42,
          29.38,
          36.624,
          42.282,
          19.4635,
          4.2415,
          7.163,
          3.769,
          12.668,
          1.921,
          32.615,
          2.6325,
          5.5305,
          28.4305,
          4.464,
          6.82,
          8.71,
          18.32,
          12.7305,
          38.916,
          14.296,
          28.956,
          9.425,
          11.078,
          38.6,
          36.065,
          25.552,
          2.6725,
          11.1,
          38.184,
          11.409,
          4.107,
          19.128,
          3.429,
          19.108,
          30.0545,
          23.7965,
          2.621,
          6.565,
          7.215,
          22.8585,
          4.669,
          6.3125,
          39.5415,
          8.72,
          18.952,
          1.531,
          17.604,
          2.54,
          26.103,
          28.756,
          2.7475,
          9.0705,
          20.6185,
          2.3205,
          13.71,
          48.685,
          32.41,
          4.661,
          2.718,
          3.0435,
          12.245,
          4.639,
          21.6725,
          6.903,
          12.08,
          23.5865,
          22.032,
          34.0155,
          15.494,
          9.318,
          10.046,
          0.8875,
          31.09,
          4.3,
          20.13,
          16.2425,
          4.7575,
          19.448,
          21.284,
          15.904,
          13.552,
          19.232,
          11.79,
          10.578,
          4.768,
          0.5085,
          10.3065,
          21.028,
          4.402,
          32.4495,
          6.192,
          32.475,
          37.11,
          null,
          12.514,
          4.74,
          4.565,
          14.2555,
          2.619,
          9.635,
          13.389,
          27.935,
          8.766,
          7.791,
          3.015,
          3.947,
          1.487,
          1.066,
          14.067,
          3.663,
          1.119,
          32.796,
          29.73,
          3.705,
          9.848,
          18.6165,
          26.395,
          23.9875,
          16.4295,
          8.448,
          5.662,
          17.277,
          21.4335,
          4.3135,
          1.276,
          5.076,
          17.8745,
          11.9385,
          5.0715,
          36.212,
          6.282,
          3.6465,
          12.918,
          8.687,
          2.825,
          10.715,
          26.718,
          4.658,
          26.104,
          2.6175,
          1.9875,
          36.008,
          4.84,
          16.605,
          null,
          15.995,
          10.326,
          8.334,
          15.953,
          4.395,
          36.735,
          4.876,
          38.46,
          20.915,
          23.164,
          23.1225,
          7.095,
          15.135,
          39.664,
          21.259,
          14.181,
          29.96,
          15.768,
          20.178,
          9.194,
          6.9325,
          null,
          5.832,
          15.676,
          42.305,
          20.72,
          7.954,
          24.505,
          4.3725,
          11.226,
          37.248,
          20.536,
          14.94,
          10.647,
          2.1425,
          18.934,
          10.3455,
          3.939,
          16.1055,
          4.911,
          1.273,
          29.099,
          10.566,
          2.756,
          4.4155,
          17.829,
          39.7125,
          2.531,
          29.976,
          8.335,
          37.22,
          22.428,
          18.945,
          12.858,
          27.6115,
          22.37,
          13.8135,
          17.187,
          13.304,
          44.919,
          22.84,
          12.6975,
          3.528,
          32.858,
          8.425,
          2.689,
          8.9525,
          10.572,
          5.9865,
          3.285,
          12.57,
          4.208,
          19.773,
          14.8995,
          22.7205,
          13.806,
          7.9,
          44.397,
          4.599,
          2.089,
          0.775,
          14.523,
          3.333,
          3.827,
          14.985,
          12.1515,
          2.37,
          8.6225,
          42.315,
          12.9185,
          30.478,
          12.012,
          8.613,
          4.992,
          14.932,
          7.98,
          1.2725,
          3.3885,
          11.918,
          11.63,
          43.866,
          34.986,
          33.7295,
          15.9275,
          1.476,
          24.8,
          41.17,
          30.148,
          14.14,
          38.3,
          5.803,
          8.745,
          3.0475,
          2.0175,
          48.69,
          1.592,
          3.291,
          30.919
         ],
         "x0": " ",
         "xaxis": "x",
         "y0": " ",
         "yaxis": "y"
        }
       ],
       "layout": {
        "boxmode": "group",
        "legend": {
         "tracegroupgap": 0
        },
        "margin": {
         "t": 60
        },
        "template": {
         "data": {
          "bar": [
           {
            "error_x": {
             "color": "#2a3f5f"
            },
            "error_y": {
             "color": "#2a3f5f"
            },
            "marker": {
             "line": {
              "color": "#E5ECF6",
              "width": 0.5
             },
             "pattern": {
              "fillmode": "overlay",
              "size": 10,
              "solidity": 0.2
             }
            },
            "type": "bar"
           }
          ],
          "barpolar": [
           {
            "marker": {
             "line": {
              "color": "#E5ECF6",
              "width": 0.5
             },
             "pattern": {
              "fillmode": "overlay",
              "size": 10,
              "solidity": 0.2
             }
            },
            "type": "barpolar"
           }
          ],
          "carpet": [
           {
            "aaxis": {
             "endlinecolor": "#2a3f5f",
             "gridcolor": "white",
             "linecolor": "white",
             "minorgridcolor": "white",
             "startlinecolor": "#2a3f5f"
            },
            "baxis": {
             "endlinecolor": "#2a3f5f",
             "gridcolor": "white",
             "linecolor": "white",
             "minorgridcolor": "white",
             "startlinecolor": "#2a3f5f"
            },
            "type": "carpet"
           }
          ],
          "choropleth": [
           {
            "colorbar": {
             "outlinewidth": 0,
             "ticks": ""
            },
            "type": "choropleth"
           }
          ],
          "contour": [
           {
            "colorbar": {
             "outlinewidth": 0,
             "ticks": ""
            },
            "colorscale": [
             [
              0,
              "#0d0887"
             ],
             [
              0.1111111111111111,
              "#46039f"
             ],
             [
              0.2222222222222222,
              "#7201a8"
             ],
             [
              0.3333333333333333,
              "#9c179e"
             ],
             [
              0.4444444444444444,
              "#bd3786"
             ],
             [
              0.5555555555555556,
              "#d8576b"
             ],
             [
              0.6666666666666666,
              "#ed7953"
             ],
             [
              0.7777777777777778,
              "#fb9f3a"
             ],
             [
              0.8888888888888888,
              "#fdca26"
             ],
             [
              1,
              "#f0f921"
             ]
            ],
            "type": "contour"
           }
          ],
          "contourcarpet": [
           {
            "colorbar": {
             "outlinewidth": 0,
             "ticks": ""
            },
            "type": "contourcarpet"
           }
          ],
          "heatmap": [
           {
            "colorbar": {
             "outlinewidth": 0,
             "ticks": ""
            },
            "colorscale": [
             [
              0,
              "#0d0887"
             ],
             [
              0.1111111111111111,
              "#46039f"
             ],
             [
              0.2222222222222222,
              "#7201a8"
             ],
             [
              0.3333333333333333,
              "#9c179e"
             ],
             [
              0.4444444444444444,
              "#bd3786"
             ],
             [
              0.5555555555555556,
              "#d8576b"
             ],
             [
              0.6666666666666666,
              "#ed7953"
             ],
             [
              0.7777777777777778,
              "#fb9f3a"
             ],
             [
              0.8888888888888888,
              "#fdca26"
             ],
             [
              1,
              "#f0f921"
             ]
            ],
            "type": "heatmap"
           }
          ],
          "heatmapgl": [
           {
            "colorbar": {
             "outlinewidth": 0,
             "ticks": ""
            },
            "colorscale": [
             [
              0,
              "#0d0887"
             ],
             [
              0.1111111111111111,
              "#46039f"
             ],
             [
              0.2222222222222222,
              "#7201a8"
             ],
             [
              0.3333333333333333,
              "#9c179e"
             ],
             [
              0.4444444444444444,
              "#bd3786"
             ],
             [
              0.5555555555555556,
              "#d8576b"
             ],
             [
              0.6666666666666666,
              "#ed7953"
             ],
             [
              0.7777777777777778,
              "#fb9f3a"
             ],
             [
              0.8888888888888888,
              "#fdca26"
             ],
             [
              1,
              "#f0f921"
             ]
            ],
            "type": "heatmapgl"
           }
          ],
          "histogram": [
           {
            "marker": {
             "pattern": {
              "fillmode": "overlay",
              "size": 10,
              "solidity": 0.2
             }
            },
            "type": "histogram"
           }
          ],
          "histogram2d": [
           {
            "colorbar": {
             "outlinewidth": 0,
             "ticks": ""
            },
            "colorscale": [
             [
              0,
              "#0d0887"
             ],
             [
              0.1111111111111111,
              "#46039f"
             ],
             [
              0.2222222222222222,
              "#7201a8"
             ],
             [
              0.3333333333333333,
              "#9c179e"
             ],
             [
              0.4444444444444444,
              "#bd3786"
             ],
             [
              0.5555555555555556,
              "#d8576b"
             ],
             [
              0.6666666666666666,
              "#ed7953"
             ],
             [
              0.7777777777777778,
              "#fb9f3a"
             ],
             [
              0.8888888888888888,
              "#fdca26"
             ],
             [
              1,
              "#f0f921"
             ]
            ],
            "type": "histogram2d"
           }
          ],
          "histogram2dcontour": [
           {
            "colorbar": {
             "outlinewidth": 0,
             "ticks": ""
            },
            "colorscale": [
             [
              0,
              "#0d0887"
             ],
             [
              0.1111111111111111,
              "#46039f"
             ],
             [
              0.2222222222222222,
              "#7201a8"
             ],
             [
              0.3333333333333333,
              "#9c179e"
             ],
             [
              0.4444444444444444,
              "#bd3786"
             ],
             [
              0.5555555555555556,
              "#d8576b"
             ],
             [
              0.6666666666666666,
              "#ed7953"
             ],
             [
              0.7777777777777778,
              "#fb9f3a"
             ],
             [
              0.8888888888888888,
              "#fdca26"
             ],
             [
              1,
              "#f0f921"
             ]
            ],
            "type": "histogram2dcontour"
           }
          ],
          "mesh3d": [
           {
            "colorbar": {
             "outlinewidth": 0,
             "ticks": ""
            },
            "type": "mesh3d"
           }
          ],
          "parcoords": [
           {
            "line": {
             "colorbar": {
              "outlinewidth": 0,
              "ticks": ""
             }
            },
            "type": "parcoords"
           }
          ],
          "pie": [
           {
            "automargin": true,
            "type": "pie"
           }
          ],
          "scatter": [
           {
            "fillpattern": {
             "fillmode": "overlay",
             "size": 10,
             "solidity": 0.2
            },
            "type": "scatter"
           }
          ],
          "scatter3d": [
           {
            "line": {
             "colorbar": {
              "outlinewidth": 0,
              "ticks": ""
             }
            },
            "marker": {
             "colorbar": {
              "outlinewidth": 0,
              "ticks": ""
             }
            },
            "type": "scatter3d"
           }
          ],
          "scattercarpet": [
           {
            "marker": {
             "colorbar": {
              "outlinewidth": 0,
              "ticks": ""
             }
            },
            "type": "scattercarpet"
           }
          ],
          "scattergeo": [
           {
            "marker": {
             "colorbar": {
              "outlinewidth": 0,
              "ticks": ""
             }
            },
            "type": "scattergeo"
           }
          ],
          "scattergl": [
           {
            "marker": {
             "colorbar": {
              "outlinewidth": 0,
              "ticks": ""
             }
            },
            "type": "scattergl"
           }
          ],
          "scattermapbox": [
           {
            "marker": {
             "colorbar": {
              "outlinewidth": 0,
              "ticks": ""
             }
            },
            "type": "scattermapbox"
           }
          ],
          "scatterpolar": [
           {
            "marker": {
             "colorbar": {
              "outlinewidth": 0,
              "ticks": ""
             }
            },
            "type": "scatterpolar"
           }
          ],
          "scatterpolargl": [
           {
            "marker": {
             "colorbar": {
              "outlinewidth": 0,
              "ticks": ""
             }
            },
            "type": "scatterpolargl"
           }
          ],
          "scatterternary": [
           {
            "marker": {
             "colorbar": {
              "outlinewidth": 0,
              "ticks": ""
             }
            },
            "type": "scatterternary"
           }
          ],
          "surface": [
           {
            "colorbar": {
             "outlinewidth": 0,
             "ticks": ""
            },
            "colorscale": [
             [
              0,
              "#0d0887"
             ],
             [
              0.1111111111111111,
              "#46039f"
             ],
             [
              0.2222222222222222,
              "#7201a8"
             ],
             [
              0.3333333333333333,
              "#9c179e"
             ],
             [
              0.4444444444444444,
              "#bd3786"
             ],
             [
              0.5555555555555556,
              "#d8576b"
             ],
             [
              0.6666666666666666,
              "#ed7953"
             ],
             [
              0.7777777777777778,
              "#fb9f3a"
             ],
             [
              0.8888888888888888,
              "#fdca26"
             ],
             [
              1,
              "#f0f921"
             ]
            ],
            "type": "surface"
           }
          ],
          "table": [
           {
            "cells": {
             "fill": {
              "color": "#EBF0F8"
             },
             "line": {
              "color": "white"
             }
            },
            "header": {
             "fill": {
              "color": "#C8D4E3"
             },
             "line": {
              "color": "white"
             }
            },
            "type": "table"
           }
          ]
         },
         "layout": {
          "annotationdefaults": {
           "arrowcolor": "#2a3f5f",
           "arrowhead": 0,
           "arrowwidth": 1
          },
          "autotypenumbers": "strict",
          "coloraxis": {
           "colorbar": {
            "outlinewidth": 0,
            "ticks": ""
           }
          },
          "colorscale": {
           "diverging": [
            [
             0,
             "#8e0152"
            ],
            [
             0.1,
             "#c51b7d"
            ],
            [
             0.2,
             "#de77ae"
            ],
            [
             0.3,
             "#f1b6da"
            ],
            [
             0.4,
             "#fde0ef"
            ],
            [
             0.5,
             "#f7f7f7"
            ],
            [
             0.6,
             "#e6f5d0"
            ],
            [
             0.7,
             "#b8e186"
            ],
            [
             0.8,
             "#7fbc41"
            ],
            [
             0.9,
             "#4d9221"
            ],
            [
             1,
             "#276419"
            ]
           ],
           "sequential": [
            [
             0,
             "#0d0887"
            ],
            [
             0.1111111111111111,
             "#46039f"
            ],
            [
             0.2222222222222222,
             "#7201a8"
            ],
            [
             0.3333333333333333,
             "#9c179e"
            ],
            [
             0.4444444444444444,
             "#bd3786"
            ],
            [
             0.5555555555555556,
             "#d8576b"
            ],
            [
             0.6666666666666666,
             "#ed7953"
            ],
            [
             0.7777777777777778,
             "#fb9f3a"
            ],
            [
             0.8888888888888888,
             "#fdca26"
            ],
            [
             1,
             "#f0f921"
            ]
           ],
           "sequentialminus": [
            [
             0,
             "#0d0887"
            ],
            [
             0.1111111111111111,
             "#46039f"
            ],
            [
             0.2222222222222222,
             "#7201a8"
            ],
            [
             0.3333333333333333,
             "#9c179e"
            ],
            [
             0.4444444444444444,
             "#bd3786"
            ],
            [
             0.5555555555555556,
             "#d8576b"
            ],
            [
             0.6666666666666666,
             "#ed7953"
            ],
            [
             0.7777777777777778,
             "#fb9f3a"
            ],
            [
             0.8888888888888888,
             "#fdca26"
            ],
            [
             1,
             "#f0f921"
            ]
           ]
          },
          "colorway": [
           "#636efa",
           "#EF553B",
           "#00cc96",
           "#ab63fa",
           "#FFA15A",
           "#19d3f3",
           "#FF6692",
           "#B6E880",
           "#FF97FF",
           "#FECB52"
          ],
          "font": {
           "color": "#2a3f5f"
          },
          "geo": {
           "bgcolor": "white",
           "lakecolor": "white",
           "landcolor": "#E5ECF6",
           "showlakes": true,
           "showland": true,
           "subunitcolor": "white"
          },
          "hoverlabel": {
           "align": "left"
          },
          "hovermode": "closest",
          "mapbox": {
           "style": "light"
          },
          "paper_bgcolor": "white",
          "plot_bgcolor": "#E5ECF6",
          "polar": {
           "angularaxis": {
            "gridcolor": "white",
            "linecolor": "white",
            "ticks": ""
           },
           "bgcolor": "#E5ECF6",
           "radialaxis": {
            "gridcolor": "white",
            "linecolor": "white",
            "ticks": ""
           }
          },
          "scene": {
           "xaxis": {
            "backgroundcolor": "#E5ECF6",
            "gridcolor": "white",
            "gridwidth": 2,
            "linecolor": "white",
            "showbackground": true,
            "ticks": "",
            "zerolinecolor": "white"
           },
           "yaxis": {
            "backgroundcolor": "#E5ECF6",
            "gridcolor": "white",
            "gridwidth": 2,
            "linecolor": "white",
            "showbackground": true,
            "ticks": "",
            "zerolinecolor": "white"
           },
           "zaxis": {
            "backgroundcolor": "#E5ECF6",
            "gridcolor": "white",
            "gridwidth": 2,
            "linecolor": "white",
            "showbackground": true,
            "ticks": "",
            "zerolinecolor": "white"
           }
          },
          "shapedefaults": {
           "line": {
            "color": "#2a3f5f"
           }
          },
          "ternary": {
           "aaxis": {
            "gridcolor": "white",
            "linecolor": "white",
            "ticks": ""
           },
           "baxis": {
            "gridcolor": "white",
            "linecolor": "white",
            "ticks": ""
           },
           "bgcolor": "#E5ECF6",
           "caxis": {
            "gridcolor": "white",
            "linecolor": "white",
            "ticks": ""
           }
          },
          "title": {
           "x": 0.05
          },
          "xaxis": {
           "automargin": true,
           "gridcolor": "white",
           "linecolor": "white",
           "ticks": "",
           "title": {
            "standoff": 15
           },
           "zerolinecolor": "white",
           "zerolinewidth": 2
          },
          "yaxis": {
           "automargin": true,
           "gridcolor": "white",
           "linecolor": "white",
           "ticks": "",
           "title": {
            "standoff": 15
           },
           "zerolinecolor": "white",
           "zerolinewidth": 2
          }
         }
        },
        "xaxis": {
         "anchor": "y",
         "domain": [
          0,
          1
         ],
         "title": {
          "text": "Tax 5%"
         }
        },
        "yaxis": {
         "anchor": "x",
         "domain": [
          0,
          1
         ]
        }
       }
      },
      "text/html": [
       "<div>                            <div id=\"0711bb00-cbdc-467a-97e7-5ab415f5c395\" class=\"plotly-graph-div\" style=\"height:525px; width:100%;\"></div>            <script type=\"text/javascript\">                require([\"plotly\"], function(Plotly) {                    window.PLOTLYENV=window.PLOTLYENV || {};                                    if (document.getElementById(\"0711bb00-cbdc-467a-97e7-5ab415f5c395\")) {                    Plotly.newPlot(                        \"0711bb00-cbdc-467a-97e7-5ab415f5c395\",                        [{\"alignmentgroup\":\"True\",\"hovertemplate\":\"Tax 5%=%{x}<extra></extra>\",\"legendgroup\":\"\",\"marker\":{\"color\":\"#636efa\"},\"name\":\"\",\"notched\":false,\"offsetgroup\":\"\",\"orientation\":\"h\",\"showlegend\":false,\"x\":[26.1415,3.82,16.2155,null,30.2085,29.8865,20.652,36.78,null,8.226,2.896,5.102,11.7375,21.595,35.69,28.116,24.1255,21.783,8.2005,4.03,21.51,13.197,3.32,8.64,13.2945,21.036,1.676,8.767,22.09,11.2005,23.5325,35.1315,33.512,9.658,19.884,3.406,15.655,27.396,21.968,12.048,4.336,5.611,20.736,39.48,1.537,18.792,25.5105,9.0045,5.679,41.315,31.99,11.1475,3.574,0.7715,1.616,34.392,4.434,35.84,36.175,9.183,3.711,16.719,24.7815,7.905,15.148,7.935,3.347,29.283,39.385,0.9165,44.74,31.06,7.278,22.773,33.6015,20.825,22.068,9.0045,39.155,5.095,29.757,14.502,7.7,16.072,12.2275,29.071,null,17.283,2.1235,23.097,9.476,22.43,null,28.962,4.4875,4.858,43.935,null,7.9125,24.81,2.4355,35.3475,10.3815,17.478,10.6225,44.335,8.214,18.639,15.291,40.985,1.649,14.7315,25.494,26.1315,36.3555,4.053,5.485,2.568,5.48,5.344,39.824,19.992,44.982,25.564,22.588,32.7915,8.0625,14.2785,27.416,40.626,13.867,27.639,6.968,26.235,24.39,13.533,6.5775,10.326,25.955,29.0,44.9,45.25,34.3,1.5205,23.385,13.878,15.07,13.228,28.744,12.984,18.308,12.096,37.458,4.944,32.388,23.0725,3.6085,12.57,43.749,28.017,17.272,3.1845,16.0265,7.64,19.95,17.028,47.79,49.49,15.384,24.332,17.5025,20.0125,8.34,15.867,7.916,15.228,8.868,7.8785,22.164,13.02,22.491,15.388,7.75,13.724,4.319,2.712,37.796,9.294,3.7035,13.962,11.556,7.352,39.51,5.11,8.1775,3.7145,4.37,1.2645,8.3,17.8475,5.745,11.498,21.4935,12.95,4.4425,10.3635,29.9925,14.265,4.5555,44.8785,11.8035,41.967,23.09,6.963,10.3635,0.914,6.1925,14.196,37.948,8.601,13.605,21.728,2.9525,0.627,4.325,8.716,31.2165,7.412,27.21,25.368,8.137,1.5885,37.8405,14.764,25.97,9.314,4.3525,11.055,3.305,4.4845,11.223,5.977,9.32,12.53,37.548,19.036,12.21,4.485,15.544,25.571,20.9475,17.595,1.439,4.75,23.56,6.524,3.3175,7.773,6.45,13.188,33.777,3.29,7.66,11.12,2.7225,34.44,7.094,37.3,14.148,17.77,16.8575,2.112,9.693,1.203,29.913,16.7895,10.91,19.084,35.495,22.01,27.984,1.85,0.767,29.949,9.534,16.67,3.743,10.6875,16.9785,33.208,20.15,9.7475,3.124,3.636,9.055,12.98,5.768,23.514,12.002,4.4305,9.982,1.9505,2.4305,10.238,5.984,25.27,14.0805,35.516,3.972,8.191,23.979,6.933,3.5575,6.9975,39.065,9.937,3.162,18.6975,10.3845,8.814,10.3185,1.971,4.578,15.4425,6.456,19.548,24.945,18.852,10.226,7.272,9.909,4.935,19.255,2.348,3.675,7.1125,34.38,17.385,7.1475,19.269,7.2135,19.5895,26.915,24.2575,6.6975,35.0685,3.5975,35.7,9.107,6.75,49.65,18.0915,19.1555,12.15,1.512,17.828,18.775,47.72,4.125,3.7485,32.384,37.788,9.979,21.966,8.248,16.336,23.094,13.188,7.18,9.675,9.191,6.096,21.033,12.624,16.7725,24.175,15.921,33.4215,19.396,4.73,16.466,2.661,24.9225,14.978,10.235,3.791,14.031,16.16,24.3315,6.377,12.072,18.975,3.841,26.13,3.987,19.375,13.5675,6.1155,12.318,8.658,11.829,9.244,0.699,9.9375,34.2265,13.452,3.4475,13.742,11.306,5.955,17.105,2.187,5.2425,3.876,20.372,4.8055,9.076,4.0755,5.722,8.827,5.79,12.6075,48.605,10.168,0.814,18.2745,18.6095,3.1305,16.8175,45.325,6.908,4.327,7.038,33.439,2.372,44.658,16.586,10.197,3.408,16.344,4.36,35.372,40.1445,0.639,6.685,0.9575,13.83,6.861,1.3535,1.956,22.413,6.603,15.9025,1.25,4.154,7.39,34.83,39.695,23.285,1.7945,10.13,36.525,14.79,1.131,12.835,27.275,13.0025,11.106,1.079,4.942,25.131,8.01,21.565,29.028,16.11,9.777,8.315,16.814,17.185,1.93,26.388,16.4,9.285,30.19,18.49,9.898,20.545,7.43,1.148,34.956,3.47,9.83,10.128,6.06,9.989,30.368,6.322,27.072,4.9065,20.608,3.6985,1.595,6.94,9.331,4.4225,9.672,7.275,25.215,15.3225,4.785,31.759,10.7275,18.998,34.8425,20.4365,2.5735,13.715,9.8475,3.473,17.98,6.8565,24.951,11.232,6.287,24.513,22.8525,7.842,5.986,27.18,44.1405,7.629,34.672,11.475,7.3395,7.08,5.8345,3.698,4.897,14.61,26.244,4.602,3.794,4.036,5.631,3.56,7.762,14.71,27.4275,12.885,19.818,8.5905,24.4395,26.208,6.663,6.762,5.622,7.204,49.26,12.498,10.863,9.711,44.6,16.968,22.353,9.925,40.605,24.665,29.583,27.951,25.893,20.51,13.335,3.5455,7.239,21.4775,28.4585,12.06,6.354,12.854,6.951,4.083,15.536,9.298,3.616,9.459,10.342,7.851,10.765,29.805,3.655,13.959,8.484,2.279,11.28,14.52,2.223,7.83,20.997,9.2125,7.032,4.154,3.2495,38.78,16.353,18.1615,6.35,18.7775,9.958,1.5305,5.789,1.448,44.5365,13.983,4.0465,33.725,17.424,21.78,21.9775,29.559,13.038,10.752,4.5805,33.1065,41.625,4.5675,7.888,6.087,41.29,7.995,null,32.095,11.7465,8.377,14.955,11.9865,33.235,10.1325,2.31,4.4075,7.863,14.8185,35.42,5.567,29.008,3.0125,8.712,21.063,1.6815,1.549,12.37,18.915,16.743,36.39,16.794,12.036,2.3535,4.9845,13.2225,6.9825,2.7725,6.4455,5.999,17.625,43.55,9.88,9.726,8.661,3.594,14.313,4.062,28.02,9.34,11.0115,13.456,22.74,8.377,22.428,14.694,29.475,14.55,1.974,1.7405,14.796,2.148,6.924,4.91,6.483,31.78,7.288,10.065,31.5855,19.264,24.315,25.683,23.67,21.8425,5.408,12.438,31.311,48.75,24.164,4.848,9.885,36.2115,39.7755,25.1195,8.6,3.449,6.248,3.855,24.186,15.106,34.9335,6.2325,39.48,8.92,25.011,1.791,6.807,5.244,8.946,40.7835,6.618,12.8695,4.668,11.4,8.3355,34.87,19.452,18.263,4.464,8.4,0.985,26.558,2.686,40.975,28.42,29.38,36.624,42.282,19.4635,4.2415,7.163,3.769,12.668,1.921,32.615,2.6325,5.5305,28.4305,4.464,6.82,8.71,18.32,12.7305,38.916,14.296,28.956,9.425,11.078,38.6,36.065,25.552,2.6725,11.1,38.184,11.409,4.107,19.128,3.429,19.108,30.0545,23.7965,2.621,6.565,7.215,22.8585,4.669,6.3125,39.5415,8.72,18.952,1.531,17.604,2.54,26.103,28.756,2.7475,9.0705,20.6185,2.3205,13.71,48.685,32.41,4.661,2.718,3.0435,12.245,4.639,21.6725,6.903,12.08,23.5865,22.032,34.0155,15.494,9.318,10.046,0.8875,31.09,4.3,20.13,16.2425,4.7575,19.448,21.284,15.904,13.552,19.232,11.79,10.578,4.768,0.5085,10.3065,21.028,4.402,32.4495,6.192,32.475,37.11,null,12.514,4.74,4.565,14.2555,2.619,9.635,13.389,27.935,8.766,7.791,3.015,3.947,1.487,1.066,14.067,3.663,1.119,32.796,29.73,3.705,9.848,18.6165,26.395,23.9875,16.4295,8.448,5.662,17.277,21.4335,4.3135,1.276,5.076,17.8745,11.9385,5.0715,36.212,6.282,3.6465,12.918,8.687,2.825,10.715,26.718,4.658,26.104,2.6175,1.9875,36.008,4.84,16.605,null,15.995,10.326,8.334,15.953,4.395,36.735,4.876,38.46,20.915,23.164,23.1225,7.095,15.135,39.664,21.259,14.181,29.96,15.768,20.178,9.194,6.9325,null,5.832,15.676,42.305,20.72,7.954,24.505,4.3725,11.226,37.248,20.536,14.94,10.647,2.1425,18.934,10.3455,3.939,16.1055,4.911,1.273,29.099,10.566,2.756,4.4155,17.829,39.7125,2.531,29.976,8.335,37.22,22.428,18.945,12.858,27.6115,22.37,13.8135,17.187,13.304,44.919,22.84,12.6975,3.528,32.858,8.425,2.689,8.9525,10.572,5.9865,3.285,12.57,4.208,19.773,14.8995,22.7205,13.806,7.9,44.397,4.599,2.089,0.775,14.523,3.333,3.827,14.985,12.1515,2.37,8.6225,42.315,12.9185,30.478,12.012,8.613,4.992,14.932,7.98,1.2725,3.3885,11.918,11.63,43.866,34.986,33.7295,15.9275,1.476,24.8,41.17,30.148,14.14,38.3,5.803,8.745,3.0475,2.0175,48.69,1.592,3.291,30.919],\"x0\":\" \",\"xaxis\":\"x\",\"y0\":\" \",\"yaxis\":\"y\",\"type\":\"box\"}],                        {\"template\":{\"data\":{\"histogram2dcontour\":[{\"type\":\"histogram2dcontour\",\"colorbar\":{\"outlinewidth\":0,\"ticks\":\"\"},\"colorscale\":[[0.0,\"#0d0887\"],[0.1111111111111111,\"#46039f\"],[0.2222222222222222,\"#7201a8\"],[0.3333333333333333,\"#9c179e\"],[0.4444444444444444,\"#bd3786\"],[0.5555555555555556,\"#d8576b\"],[0.6666666666666666,\"#ed7953\"],[0.7777777777777778,\"#fb9f3a\"],[0.8888888888888888,\"#fdca26\"],[1.0,\"#f0f921\"]]}],\"choropleth\":[{\"type\":\"choropleth\",\"colorbar\":{\"outlinewidth\":0,\"ticks\":\"\"}}],\"histogram2d\":[{\"type\":\"histogram2d\",\"colorbar\":{\"outlinewidth\":0,\"ticks\":\"\"},\"colorscale\":[[0.0,\"#0d0887\"],[0.1111111111111111,\"#46039f\"],[0.2222222222222222,\"#7201a8\"],[0.3333333333333333,\"#9c179e\"],[0.4444444444444444,\"#bd3786\"],[0.5555555555555556,\"#d8576b\"],[0.6666666666666666,\"#ed7953\"],[0.7777777777777778,\"#fb9f3a\"],[0.8888888888888888,\"#fdca26\"],[1.0,\"#f0f921\"]]}],\"heatmap\":[{\"type\":\"heatmap\",\"colorbar\":{\"outlinewidth\":0,\"ticks\":\"\"},\"colorscale\":[[0.0,\"#0d0887\"],[0.1111111111111111,\"#46039f\"],[0.2222222222222222,\"#7201a8\"],[0.3333333333333333,\"#9c179e\"],[0.4444444444444444,\"#bd3786\"],[0.5555555555555556,\"#d8576b\"],[0.6666666666666666,\"#ed7953\"],[0.7777777777777778,\"#fb9f3a\"],[0.8888888888888888,\"#fdca26\"],[1.0,\"#f0f921\"]]}],\"heatmapgl\":[{\"type\":\"heatmapgl\",\"colorbar\":{\"outlinewidth\":0,\"ticks\":\"\"},\"colorscale\":[[0.0,\"#0d0887\"],[0.1111111111111111,\"#46039f\"],[0.2222222222222222,\"#7201a8\"],[0.3333333333333333,\"#9c179e\"],[0.4444444444444444,\"#bd3786\"],[0.5555555555555556,\"#d8576b\"],[0.6666666666666666,\"#ed7953\"],[0.7777777777777778,\"#fb9f3a\"],[0.8888888888888888,\"#fdca26\"],[1.0,\"#f0f921\"]]}],\"contourcarpet\":[{\"type\":\"contourcarpet\",\"colorbar\":{\"outlinewidth\":0,\"ticks\":\"\"}}],\"contour\":[{\"type\":\"contour\",\"colorbar\":{\"outlinewidth\":0,\"ticks\":\"\"},\"colorscale\":[[0.0,\"#0d0887\"],[0.1111111111111111,\"#46039f\"],[0.2222222222222222,\"#7201a8\"],[0.3333333333333333,\"#9c179e\"],[0.4444444444444444,\"#bd3786\"],[0.5555555555555556,\"#d8576b\"],[0.6666666666666666,\"#ed7953\"],[0.7777777777777778,\"#fb9f3a\"],[0.8888888888888888,\"#fdca26\"],[1.0,\"#f0f921\"]]}],\"surface\":[{\"type\":\"surface\",\"colorbar\":{\"outlinewidth\":0,\"ticks\":\"\"},\"colorscale\":[[0.0,\"#0d0887\"],[0.1111111111111111,\"#46039f\"],[0.2222222222222222,\"#7201a8\"],[0.3333333333333333,\"#9c179e\"],[0.4444444444444444,\"#bd3786\"],[0.5555555555555556,\"#d8576b\"],[0.6666666666666666,\"#ed7953\"],[0.7777777777777778,\"#fb9f3a\"],[0.8888888888888888,\"#fdca26\"],[1.0,\"#f0f921\"]]}],\"mesh3d\":[{\"type\":\"mesh3d\",\"colorbar\":{\"outlinewidth\":0,\"ticks\":\"\"}}],\"scatter\":[{\"fillpattern\":{\"fillmode\":\"overlay\",\"size\":10,\"solidity\":0.2},\"type\":\"scatter\"}],\"parcoords\":[{\"type\":\"parcoords\",\"line\":{\"colorbar\":{\"outlinewidth\":0,\"ticks\":\"\"}}}],\"scatterpolargl\":[{\"type\":\"scatterpolargl\",\"marker\":{\"colorbar\":{\"outlinewidth\":0,\"ticks\":\"\"}}}],\"bar\":[{\"error_x\":{\"color\":\"#2a3f5f\"},\"error_y\":{\"color\":\"#2a3f5f\"},\"marker\":{\"line\":{\"color\":\"#E5ECF6\",\"width\":0.5},\"pattern\":{\"fillmode\":\"overlay\",\"size\":10,\"solidity\":0.2}},\"type\":\"bar\"}],\"scattergeo\":[{\"type\":\"scattergeo\",\"marker\":{\"colorbar\":{\"outlinewidth\":0,\"ticks\":\"\"}}}],\"scatterpolar\":[{\"type\":\"scatterpolar\",\"marker\":{\"colorbar\":{\"outlinewidth\":0,\"ticks\":\"\"}}}],\"histogram\":[{\"marker\":{\"pattern\":{\"fillmode\":\"overlay\",\"size\":10,\"solidity\":0.2}},\"type\":\"histogram\"}],\"scattergl\":[{\"type\":\"scattergl\",\"marker\":{\"colorbar\":{\"outlinewidth\":0,\"ticks\":\"\"}}}],\"scatter3d\":[{\"type\":\"scatter3d\",\"line\":{\"colorbar\":{\"outlinewidth\":0,\"ticks\":\"\"}},\"marker\":{\"colorbar\":{\"outlinewidth\":0,\"ticks\":\"\"}}}],\"scattermapbox\":[{\"type\":\"scattermapbox\",\"marker\":{\"colorbar\":{\"outlinewidth\":0,\"ticks\":\"\"}}}],\"scatterternary\":[{\"type\":\"scatterternary\",\"marker\":{\"colorbar\":{\"outlinewidth\":0,\"ticks\":\"\"}}}],\"scattercarpet\":[{\"type\":\"scattercarpet\",\"marker\":{\"colorbar\":{\"outlinewidth\":0,\"ticks\":\"\"}}}],\"carpet\":[{\"aaxis\":{\"endlinecolor\":\"#2a3f5f\",\"gridcolor\":\"white\",\"linecolor\":\"white\",\"minorgridcolor\":\"white\",\"startlinecolor\":\"#2a3f5f\"},\"baxis\":{\"endlinecolor\":\"#2a3f5f\",\"gridcolor\":\"white\",\"linecolor\":\"white\",\"minorgridcolor\":\"white\",\"startlinecolor\":\"#2a3f5f\"},\"type\":\"carpet\"}],\"table\":[{\"cells\":{\"fill\":{\"color\":\"#EBF0F8\"},\"line\":{\"color\":\"white\"}},\"header\":{\"fill\":{\"color\":\"#C8D4E3\"},\"line\":{\"color\":\"white\"}},\"type\":\"table\"}],\"barpolar\":[{\"marker\":{\"line\":{\"color\":\"#E5ECF6\",\"width\":0.5},\"pattern\":{\"fillmode\":\"overlay\",\"size\":10,\"solidity\":0.2}},\"type\":\"barpolar\"}],\"pie\":[{\"automargin\":true,\"type\":\"pie\"}]},\"layout\":{\"autotypenumbers\":\"strict\",\"colorway\":[\"#636efa\",\"#EF553B\",\"#00cc96\",\"#ab63fa\",\"#FFA15A\",\"#19d3f3\",\"#FF6692\",\"#B6E880\",\"#FF97FF\",\"#FECB52\"],\"font\":{\"color\":\"#2a3f5f\"},\"hovermode\":\"closest\",\"hoverlabel\":{\"align\":\"left\"},\"paper_bgcolor\":\"white\",\"plot_bgcolor\":\"#E5ECF6\",\"polar\":{\"bgcolor\":\"#E5ECF6\",\"angularaxis\":{\"gridcolor\":\"white\",\"linecolor\":\"white\",\"ticks\":\"\"},\"radialaxis\":{\"gridcolor\":\"white\",\"linecolor\":\"white\",\"ticks\":\"\"}},\"ternary\":{\"bgcolor\":\"#E5ECF6\",\"aaxis\":{\"gridcolor\":\"white\",\"linecolor\":\"white\",\"ticks\":\"\"},\"baxis\":{\"gridcolor\":\"white\",\"linecolor\":\"white\",\"ticks\":\"\"},\"caxis\":{\"gridcolor\":\"white\",\"linecolor\":\"white\",\"ticks\":\"\"}},\"coloraxis\":{\"colorbar\":{\"outlinewidth\":0,\"ticks\":\"\"}},\"colorscale\":{\"sequential\":[[0.0,\"#0d0887\"],[0.1111111111111111,\"#46039f\"],[0.2222222222222222,\"#7201a8\"],[0.3333333333333333,\"#9c179e\"],[0.4444444444444444,\"#bd3786\"],[0.5555555555555556,\"#d8576b\"],[0.6666666666666666,\"#ed7953\"],[0.7777777777777778,\"#fb9f3a\"],[0.8888888888888888,\"#fdca26\"],[1.0,\"#f0f921\"]],\"sequentialminus\":[[0.0,\"#0d0887\"],[0.1111111111111111,\"#46039f\"],[0.2222222222222222,\"#7201a8\"],[0.3333333333333333,\"#9c179e\"],[0.4444444444444444,\"#bd3786\"],[0.5555555555555556,\"#d8576b\"],[0.6666666666666666,\"#ed7953\"],[0.7777777777777778,\"#fb9f3a\"],[0.8888888888888888,\"#fdca26\"],[1.0,\"#f0f921\"]],\"diverging\":[[0,\"#8e0152\"],[0.1,\"#c51b7d\"],[0.2,\"#de77ae\"],[0.3,\"#f1b6da\"],[0.4,\"#fde0ef\"],[0.5,\"#f7f7f7\"],[0.6,\"#e6f5d0\"],[0.7,\"#b8e186\"],[0.8,\"#7fbc41\"],[0.9,\"#4d9221\"],[1,\"#276419\"]]},\"xaxis\":{\"gridcolor\":\"white\",\"linecolor\":\"white\",\"ticks\":\"\",\"title\":{\"standoff\":15},\"zerolinecolor\":\"white\",\"automargin\":true,\"zerolinewidth\":2},\"yaxis\":{\"gridcolor\":\"white\",\"linecolor\":\"white\",\"ticks\":\"\",\"title\":{\"standoff\":15},\"zerolinecolor\":\"white\",\"automargin\":true,\"zerolinewidth\":2},\"scene\":{\"xaxis\":{\"backgroundcolor\":\"#E5ECF6\",\"gridcolor\":\"white\",\"linecolor\":\"white\",\"showbackground\":true,\"ticks\":\"\",\"zerolinecolor\":\"white\",\"gridwidth\":2},\"yaxis\":{\"backgroundcolor\":\"#E5ECF6\",\"gridcolor\":\"white\",\"linecolor\":\"white\",\"showbackground\":true,\"ticks\":\"\",\"zerolinecolor\":\"white\",\"gridwidth\":2},\"zaxis\":{\"backgroundcolor\":\"#E5ECF6\",\"gridcolor\":\"white\",\"linecolor\":\"white\",\"showbackground\":true,\"ticks\":\"\",\"zerolinecolor\":\"white\",\"gridwidth\":2}},\"shapedefaults\":{\"line\":{\"color\":\"#2a3f5f\"}},\"annotationdefaults\":{\"arrowcolor\":\"#2a3f5f\",\"arrowhead\":0,\"arrowwidth\":1},\"geo\":{\"bgcolor\":\"white\",\"landcolor\":\"#E5ECF6\",\"subunitcolor\":\"white\",\"showland\":true,\"showlakes\":true,\"lakecolor\":\"white\"},\"title\":{\"x\":0.05},\"mapbox\":{\"style\":\"light\"}}},\"xaxis\":{\"anchor\":\"y\",\"domain\":[0.0,1.0],\"title\":{\"text\":\"Tax 5%\"}},\"yaxis\":{\"anchor\":\"x\",\"domain\":[0.0,1.0]},\"legend\":{\"tracegroupgap\":0},\"margin\":{\"t\":60},\"boxmode\":\"group\"},                        {\"responsive\": true}                    ).then(function(){\n",
       "                            \n",
       "var gd = document.getElementById('0711bb00-cbdc-467a-97e7-5ab415f5c395');\n",
       "var x = new MutationObserver(function (mutations, observer) {{\n",
       "        var display = window.getComputedStyle(gd).display;\n",
       "        if (!display || display === 'none') {{\n",
       "            console.log([gd, 'removed!']);\n",
       "            Plotly.purge(gd);\n",
       "            observer.disconnect();\n",
       "        }}\n",
       "}});\n",
       "\n",
       "// Listen for the removal of the full notebook cells\n",
       "var notebookContainer = gd.closest('#notebook-container');\n",
       "if (notebookContainer) {{\n",
       "    x.observe(notebookContainer, {childList: true});\n",
       "}}\n",
       "\n",
       "// Listen for the clearing of the current output cell\n",
       "var outputEl = gd.closest('.output');\n",
       "if (outputEl) {{\n",
       "    x.observe(outputEl, {childList: true});\n",
       "}}\n",
       "\n",
       "                        })                };                });            </script>        </div>"
      ]
     },
     "metadata": {},
     "output_type": "display_data"
    }
   ],
   "source": [
    "px.box(data_frame=df, x='Tax 5%')"
   ]
  },
  {
   "cell_type": "code",
   "execution_count": 234,
   "id": "887d89ba",
   "metadata": {},
   "outputs": [
    {
     "data": {
      "text/plain": [
       "9"
      ]
     },
     "execution_count": 234,
     "metadata": {},
     "output_type": "execute_result"
    }
   ],
   "source": [
    "df['Tax 5%'].isnull().sum()"
   ]
  },
  {
   "cell_type": "markdown",
   "id": "138cb478",
   "metadata": {},
   "source": [
    "<span style=\"color:#b30000;font-size:20px;\">Problem : Tax Column has missing values </span>"
   ]
  },
  {
   "cell_type": "markdown",
   "id": "5ee6c87c",
   "metadata": {},
   "source": [
    "<span style=\"color:#2929a3;font-size:20px;\">Solution : Calculate the Tax values from the equation (Unit Price * Quantity) * 0.05</span>"
   ]
  },
  {
   "cell_type": "markdown",
   "id": "4b3cedef",
   "metadata": {},
   "source": [
    "<span style=\"color:#2929a3;font-size:20px;\"><b>Code</b> </span>"
   ]
  },
  {
   "cell_type": "code",
   "execution_count": 235,
   "id": "fd4f7b25",
   "metadata": {},
   "outputs": [],
   "source": [
    "### Create calc_tax Function\n",
    "def calc_tax(row):\n",
    "    return np.round((row['Unit price'] * row['Quantity']) * 0.05, 4) "
   ]
  },
  {
   "cell_type": "code",
   "execution_count": 236,
   "id": "cf7009f5",
   "metadata": {},
   "outputs": [],
   "source": [
    "### Apply calc_tax Funciton\n",
    "df['Tax 5%'] = df.apply(calc_tax, axis=1)"
   ]
  },
  {
   "cell_type": "markdown",
   "id": "43e808d9",
   "metadata": {},
   "source": [
    "<span style=\"color:#2929a3;font-size:20px;\"><b>Test</b> </span>"
   ]
  },
  {
   "cell_type": "code",
   "execution_count": 237,
   "id": "b1947e10",
   "metadata": {},
   "outputs": [
    {
     "data": {
      "text/plain": [
       "0"
      ]
     },
     "execution_count": 237,
     "metadata": {},
     "output_type": "execute_result"
    }
   ],
   "source": [
    "df['Tax 5%'].isnull().sum()"
   ]
  },
  {
   "cell_type": "markdown",
   "id": "0db970bb",
   "metadata": {},
   "source": [
    "## 11 - \"Total\" Column"
   ]
  },
  {
   "cell_type": "code",
   "execution_count": 238,
   "id": "b7d24a55",
   "metadata": {},
   "outputs": [
    {
     "data": {
      "text/plain": [
       "count     997.000000\n",
       "mean      322.059149\n",
       "std       245.648140\n",
       "min        10.678500\n",
       "25%       122.524500\n",
       "50%       253.512000\n",
       "75%       470.988000\n",
       "max      1042.650000\n",
       "Name: Total, dtype: float64"
      ]
     },
     "execution_count": 238,
     "metadata": {},
     "output_type": "execute_result"
    }
   ],
   "source": [
    "df['Total'].describe()"
   ]
  },
  {
   "cell_type": "code",
   "execution_count": 239,
   "id": "c32f702b",
   "metadata": {},
   "outputs": [
    {
     "data": {
      "application/vnd.plotly.v1+json": {
       "config": {
        "plotlyServerURL": "https://plot.ly"
       },
       "data": [
        {
         "alignmentgroup": "True",
         "hovertemplate": "Total=%{x}<extra></extra>",
         "legendgroup": "",
         "marker": {
          "color": "#636efa"
         },
         "name": "",
         "notched": false,
         "offsetgroup": "",
         "orientation": "h",
         "showlegend": false,
         "type": "box",
         "x": [
          null,
          80.22,
          340.5255,
          489.048,
          634.3785,
          627.6165,
          433.692,
          772.38,
          76.146,
          172.746,
          60.816,
          107.142,
          246.4875,
          453.495,
          null,
          590.436,
          506.6355,
          457.443,
          172.2105,
          84.63,
          451.71,
          277.137,
          69.72,
          181.44,
          279.1845,
          441.756,
          35.196,
          184.107,
          463.89,
          235.2105,
          494.1825,
          737.7615,
          703.752,
          202.818,
          417.564,
          71.526,
          328.755,
          null,
          461.328,
          253.008,
          91.056,
          117.831,
          435.456,
          829.08,
          32.277,
          394.632,
          535.7205,
          189.0945,
          119.259,
          867.615,
          671.79,
          234.0975,
          75.054,
          16.2015,
          33.936,
          722.232,
          93.114,
          752.64,
          759.675,
          192.843,
          77.931,
          351.099,
          520.4115,
          166.005,
          318.108,
          166.635,
          70.287,
          614.943,
          827.085,
          19.2465,
          939.54,
          652.26,
          152.838,
          478.233,
          705.6315,
          437.325,
          463.428,
          189.0945,
          822.255,
          106.995,
          624.897,
          304.542,
          161.7,
          337.512,
          256.7775,
          610.491,
          401.73,
          362.943,
          44.5935,
          485.037,
          198.996,
          471.03,
          161.553,
          608.202,
          94.2375,
          102.018,
          922.635,
          78.435,
          166.1625,
          521.01,
          51.1455,
          742.2975,
          218.0115,
          367.038,
          223.0725,
          931.035,
          172.494,
          391.419,
          321.111,
          860.685,
          34.629,
          309.3615,
          535.374,
          548.7615,
          763.4655,
          85.113,
          115.185,
          53.928,
          115.08,
          112.224,
          836.304,
          419.832,
          944.622,
          536.844,
          474.348,
          688.6215,
          169.3125,
          299.8485,
          575.736,
          853.146,
          291.207,
          580.419,
          146.328,
          550.935,
          512.19,
          284.193,
          138.1275,
          216.846,
          545.055,
          609,
          942.9,
          950.25,
          720.3,
          31.9305,
          491.085,
          291.438,
          316.47,
          277.788,
          603.624,
          272.664,
          384.468,
          254.016,
          786.618,
          103.824,
          680.148,
          484.5225,
          75.7785,
          263.97,
          918.729,
          588.357,
          362.712,
          66.8745,
          336.5565,
          160.44,
          418.95,
          357.588,
          1003.59,
          1039.29,
          323.064,
          510.972,
          367.5525,
          420.2625,
          175.14,
          333.207,
          166.236,
          319.788,
          186.228,
          165.4485,
          465.444,
          273.42,
          472.311,
          323.148,
          162.75,
          288.204,
          90.699,
          56.952,
          793.716,
          195.174,
          77.7735,
          293.202,
          242.676,
          154.392,
          829.71,
          107.31,
          171.7275,
          78.0045,
          91.77,
          26.5545,
          174.3,
          374.7975,
          120.645,
          241.458,
          451.3635,
          271.95,
          93.2925,
          217.6335,
          629.8425,
          299.565,
          95.6655,
          942.4485,
          247.8735,
          881.307,
          484.89,
          146.223,
          217.6335,
          19.194,
          130.0425,
          298.116,
          796.908,
          180.621,
          285.705,
          456.288,
          62.0025,
          13.167,
          90.825,
          183.036,
          655.5465,
          155.652,
          571.41,
          532.728,
          170.877,
          33.3585,
          794.6505,
          310.044,
          545.37,
          195.594,
          91.4025,
          232.155,
          69.405,
          94.1745,
          235.683,
          125.517,
          195.72,
          263.13,
          788.508,
          399.756,
          256.41,
          94.185,
          326.424,
          536.991,
          439.8975,
          369.495,
          30.219,
          99.75,
          494.76,
          137.004,
          69.6675,
          163.233,
          135.45,
          276.948,
          709.317,
          69.09,
          160.86,
          233.52,
          57.1725,
          723.24,
          148.974,
          783.3,
          297.108,
          373.17,
          354.0075,
          44.352,
          203.553,
          25.263,
          628.173,
          352.5795,
          229.11,
          400.764,
          745.395,
          462.21,
          587.664,
          38.85,
          16.107,
          628.929,
          200.214,
          350.07,
          78.603,
          224.4375,
          356.5485,
          697.368,
          423.15,
          204.6975,
          65.604,
          76.356,
          190.155,
          272.58,
          121.128,
          493.794,
          252.042,
          93.0405,
          209.622,
          40.9605,
          51.0405,
          214.998,
          125.664,
          530.67,
          295.6905,
          745.836,
          83.412,
          172.011,
          503.559,
          145.593,
          74.7075,
          146.9475,
          820.365,
          208.677,
          66.402,
          392.6475,
          218.0745,
          185.094,
          216.6885,
          41.391,
          96.138,
          324.2925,
          135.576,
          410.508,
          523.845,
          395.892,
          214.746,
          152.712,
          208.089,
          103.635,
          404.355,
          49.308,
          77.175,
          149.3625,
          721.98,
          365.085,
          150.0975,
          404.649,
          151.4835,
          411.3795,
          565.215,
          509.4075,
          140.6475,
          736.4385,
          75.5475,
          749.7,
          191.247,
          141.75,
          1042.65,
          379.9215,
          402.2655,
          255.15,
          31.752,
          374.388,
          394.275,
          1002.12,
          86.625,
          78.7185,
          680.064,
          793.548,
          209.559,
          461.286,
          173.208,
          343.056,
          484.974,
          276.948,
          150.78,
          203.175,
          193.011,
          128.016,
          441.693,
          265.104,
          352.2225,
          507.675,
          334.341,
          701.8515,
          407.316,
          99.33,
          345.786,
          55.881,
          523.3725,
          314.538,
          214.935,
          79.611,
          294.651,
          339.36,
          510.9615,
          133.917,
          253.512,
          398.475,
          80.661,
          548.73,
          83.727,
          406.875,
          284.9175,
          128.4255,
          258.678,
          181.818,
          248.409,
          194.124,
          14.679,
          208.6875,
          718.7565,
          282.492,
          72.3975,
          288.582,
          237.426,
          125.055,
          359.205,
          45.927,
          110.0925,
          81.396,
          427.812,
          100.9155,
          190.596,
          85.5855,
          120.162,
          185.367,
          121.59,
          264.7575,
          1020.705,
          213.528,
          17.094,
          383.7645,
          390.7995,
          65.7405,
          353.1675,
          951.825,
          145.068,
          90.867,
          147.798,
          702.219,
          49.812,
          937.818,
          348.306,
          214.137,
          71.568,
          343.224,
          91.56,
          742.812,
          843.0345,
          13.419,
          140.385,
          20.1075,
          290.43,
          144.081,
          28.4235,
          41.076,
          470.673,
          138.663,
          333.9525,
          26.25,
          87.234,
          155.19,
          731.43,
          833.595,
          488.985,
          37.6845,
          212.73,
          767.025,
          310.59,
          23.751,
          269.535,
          572.775,
          273.0525,
          233.226,
          22.659,
          103.782,
          527.751,
          168.21,
          452.865,
          609.588,
          338.31,
          205.317,
          174.615,
          353.094,
          360.885,
          40.53,
          554.148,
          344.4,
          194.985,
          633.99,
          388.29,
          207.858,
          431.445,
          156.03,
          24.108,
          734.076,
          72.87,
          206.43,
          212.688,
          127.26,
          209.769,
          637.728,
          132.762,
          568.512,
          103.0365,
          432.768,
          77.6685,
          33.495,
          145.74,
          195.951,
          92.8725,
          203.112,
          152.775,
          529.515,
          321.7725,
          100.485,
          666.939,
          225.2775,
          398.958,
          731.6925,
          429.1665,
          54.0435,
          288.015,
          206.7975,
          72.933,
          377.58,
          143.9865,
          523.971,
          235.872,
          132.027,
          514.773,
          479.9025,
          164.682,
          125.706,
          570.78,
          926.9505,
          160.209,
          728.112,
          240.975,
          154.1295,
          148.68,
          122.5245,
          77.658,
          102.837,
          306.81,
          551.124,
          96.642,
          79.674,
          84.756,
          118.251,
          74.76,
          163.002,
          308.91,
          575.9775,
          270.585,
          416.178,
          180.4005,
          513.2295,
          550.368,
          139.923,
          142.002,
          118.062,
          151.284,
          1034.46,
          262.458,
          228.123,
          203.931,
          936.6,
          356.328,
          469.413,
          208.425,
          852.705,
          517.965,
          621.243,
          586.971,
          543.753,
          430.71,
          280.035,
          74.4555,
          152.019,
          451.0275,
          597.6285,
          253.26,
          133.434,
          269.934,
          145.971,
          85.743,
          326.256,
          195.258,
          75.936,
          198.639,
          217.182,
          164.871,
          226.065,
          625.905,
          76.755,
          293.139,
          178.164,
          47.859,
          236.88,
          304.92,
          46.683,
          164.43,
          440.937,
          193.4625,
          147.672,
          87.234,
          68.2395,
          814.38,
          343.413,
          381.3915,
          133.35,
          394.3275,
          209.118,
          32.1405,
          121.569,
          30.408,
          935.2665,
          293.643,
          84.9765,
          708.225,
          365.904,
          457.38,
          461.5275,
          620.739,
          273.798,
          225.792,
          96.1905,
          695.2365,
          874.125,
          95.9175,
          165.648,
          127.827,
          867.09,
          167.895,
          12.6945,
          673.995,
          246.6765,
          175.917,
          314.055,
          251.7165,
          697.935,
          212.7825,
          48.51,
          92.5575,
          165.123,
          311.1885,
          743.82,
          116.907,
          609.168,
          63.2625,
          182.952,
          442.323,
          35.3115,
          32.529,
          259.77,
          397.215,
          351.603,
          764.19,
          352.674,
          252.756,
          49.4235,
          104.6745,
          277.6725,
          146.6325,
          58.2225,
          135.3555,
          125.979,
          370.125,
          914.55,
          207.48,
          204.246,
          181.881,
          75.474,
          300.573,
          85.302,
          588.42,
          196.14,
          231.2415,
          282.576,
          477.54,
          175.917,
          470.988,
          308.574,
          618.975,
          305.55,
          41.454,
          36.5505,
          310.716,
          45.108,
          145.404,
          103.11,
          136.143,
          667.38,
          153.048,
          211.365,
          663.2955,
          404.544,
          510.615,
          539.343,
          497.07,
          458.6925,
          113.568,
          261.198,
          657.531,
          1023.75,
          507.444,
          101.808,
          207.585,
          760.4415,
          835.2855,
          527.5095,
          180.6,
          72.429,
          131.208,
          80.955,
          507.906,
          317.226,
          733.6035,
          130.8825,
          829.08,
          187.32,
          525.231,
          37.611,
          142.947,
          110.124,
          187.866,
          856.4535,
          138.978,
          270.2595,
          98.028,
          239.4,
          175.0455,
          732.27,
          408.492,
          383.523,
          93.744,
          176.4,
          20.685,
          557.718,
          56.406,
          860.475,
          596.82,
          616.98,
          769.104,
          887.922,
          408.7335,
          89.0715,
          150.423,
          79.149,
          266.028,
          40.341,
          684.915,
          55.2825,
          116.1405,
          597.0405,
          93.744,
          143.22,
          182.91,
          384.72,
          267.3405,
          817.236,
          300.216,
          608.076,
          197.925,
          232.638,
          810.6,
          757.365,
          536.592,
          56.1225,
          233.1,
          801.864,
          239.589,
          86.247,
          401.688,
          72.009,
          401.268,
          631.1445,
          499.7265,
          55.041,
          137.865,
          151.515,
          480.0285,
          98.049,
          132.5625,
          830.3715,
          183.12,
          397.992,
          32.151,
          369.684,
          53.34,
          548.163,
          603.876,
          57.6975,
          190.4805,
          432.9885,
          48.7305,
          287.91,
          1022.385,
          680.61,
          97.881,
          57.078,
          63.9135,
          257.145,
          97.419,
          455.1225,
          144.963,
          253.68,
          495.3165,
          462.672,
          714.3255,
          325.374,
          195.678,
          210.966,
          18.6375,
          652.89,
          90.3,
          422.73,
          341.0925,
          99.9075,
          408.408,
          446.964,
          333.984,
          284.592,
          403.872,
          247.59,
          222.138,
          100.128,
          10.6785,
          216.4365,
          441.588,
          92.442,
          681.4395,
          130.032,
          681.975,
          779.31,
          88.704,
          262.794,
          99.54,
          95.865,
          299.3655,
          54.999,
          202.335,
          281.169,
          586.635,
          184.086,
          163.611,
          63.315,
          82.887,
          31.227,
          22.386,
          295.407,
          76.923,
          23.499,
          688.716,
          624.33,
          77.805,
          206.808,
          390.9465,
          554.295,
          503.7375,
          345.0195,
          177.408,
          118.902,
          362.817,
          450.1035,
          90.5835,
          26.796,
          106.596,
          375.3645,
          250.7085,
          106.5015,
          760.452,
          131.922,
          76.5765,
          271.278,
          182.427,
          59.325,
          225.015,
          561.078,
          97.818,
          548.184,
          54.9675,
          41.7375,
          756.168,
          101.64,
          348.705,
          85.512,
          335.895,
          216.846,
          175.014,
          335.013,
          92.295,
          771.435,
          102.396,
          807.66,
          439.215,
          486.444,
          485.5725,
          148.995,
          317.835,
          832.944,
          446.439,
          297.801,
          629.16,
          331.128,
          423.738,
          193.074,
          145.5825,
          84.7455,
          122.472,
          329.196,
          888.405,
          435.12,
          167.034,
          514.605,
          91.8225,
          235.746,
          782.208,
          431.256,
          313.74,
          223.587,
          44.9925,
          397.614,
          217.2555,
          82.719,
          338.2155,
          103.131,
          26.733,
          611.079,
          221.886,
          57.876,
          92.7255,
          374.409,
          833.9625,
          53.151,
          629.496,
          175.035,
          781.62,
          470.988,
          397.845,
          270.018,
          579.8415,
          469.77,
          290.0835,
          360.927,
          279.384,
          943.299,
          479.64,
          266.6475,
          74.088,
          690.018,
          176.925,
          56.469,
          188.0025,
          222.012,
          125.7165,
          68.985,
          263.97,
          88.368,
          415.233,
          312.8895,
          477.1305,
          289.926,
          165.9,
          932.337,
          96.579,
          43.869,
          16.275,
          304.983,
          69.993,
          80.367,
          314.685,
          255.1815,
          49.77,
          181.0725,
          888.615,
          271.2885,
          640.038,
          252.252,
          180.873,
          104.832,
          313.572,
          167.58,
          26.7225,
          71.1585,
          250.278,
          244.23,
          921.186,
          734.706,
          708.3195,
          334.4775,
          30.996,
          520.8,
          864.57,
          633.108,
          296.94,
          804.3,
          121.863,
          183.645,
          63.9975,
          42.3675,
          1022.49,
          33.432,
          69.111,
          649.299
         ],
         "x0": " ",
         "xaxis": "x",
         "y0": " ",
         "yaxis": "y"
        }
       ],
       "layout": {
        "boxmode": "group",
        "legend": {
         "tracegroupgap": 0
        },
        "margin": {
         "t": 60
        },
        "template": {
         "data": {
          "bar": [
           {
            "error_x": {
             "color": "#2a3f5f"
            },
            "error_y": {
             "color": "#2a3f5f"
            },
            "marker": {
             "line": {
              "color": "#E5ECF6",
              "width": 0.5
             },
             "pattern": {
              "fillmode": "overlay",
              "size": 10,
              "solidity": 0.2
             }
            },
            "type": "bar"
           }
          ],
          "barpolar": [
           {
            "marker": {
             "line": {
              "color": "#E5ECF6",
              "width": 0.5
             },
             "pattern": {
              "fillmode": "overlay",
              "size": 10,
              "solidity": 0.2
             }
            },
            "type": "barpolar"
           }
          ],
          "carpet": [
           {
            "aaxis": {
             "endlinecolor": "#2a3f5f",
             "gridcolor": "white",
             "linecolor": "white",
             "minorgridcolor": "white",
             "startlinecolor": "#2a3f5f"
            },
            "baxis": {
             "endlinecolor": "#2a3f5f",
             "gridcolor": "white",
             "linecolor": "white",
             "minorgridcolor": "white",
             "startlinecolor": "#2a3f5f"
            },
            "type": "carpet"
           }
          ],
          "choropleth": [
           {
            "colorbar": {
             "outlinewidth": 0,
             "ticks": ""
            },
            "type": "choropleth"
           }
          ],
          "contour": [
           {
            "colorbar": {
             "outlinewidth": 0,
             "ticks": ""
            },
            "colorscale": [
             [
              0,
              "#0d0887"
             ],
             [
              0.1111111111111111,
              "#46039f"
             ],
             [
              0.2222222222222222,
              "#7201a8"
             ],
             [
              0.3333333333333333,
              "#9c179e"
             ],
             [
              0.4444444444444444,
              "#bd3786"
             ],
             [
              0.5555555555555556,
              "#d8576b"
             ],
             [
              0.6666666666666666,
              "#ed7953"
             ],
             [
              0.7777777777777778,
              "#fb9f3a"
             ],
             [
              0.8888888888888888,
              "#fdca26"
             ],
             [
              1,
              "#f0f921"
             ]
            ],
            "type": "contour"
           }
          ],
          "contourcarpet": [
           {
            "colorbar": {
             "outlinewidth": 0,
             "ticks": ""
            },
            "type": "contourcarpet"
           }
          ],
          "heatmap": [
           {
            "colorbar": {
             "outlinewidth": 0,
             "ticks": ""
            },
            "colorscale": [
             [
              0,
              "#0d0887"
             ],
             [
              0.1111111111111111,
              "#46039f"
             ],
             [
              0.2222222222222222,
              "#7201a8"
             ],
             [
              0.3333333333333333,
              "#9c179e"
             ],
             [
              0.4444444444444444,
              "#bd3786"
             ],
             [
              0.5555555555555556,
              "#d8576b"
             ],
             [
              0.6666666666666666,
              "#ed7953"
             ],
             [
              0.7777777777777778,
              "#fb9f3a"
             ],
             [
              0.8888888888888888,
              "#fdca26"
             ],
             [
              1,
              "#f0f921"
             ]
            ],
            "type": "heatmap"
           }
          ],
          "heatmapgl": [
           {
            "colorbar": {
             "outlinewidth": 0,
             "ticks": ""
            },
            "colorscale": [
             [
              0,
              "#0d0887"
             ],
             [
              0.1111111111111111,
              "#46039f"
             ],
             [
              0.2222222222222222,
              "#7201a8"
             ],
             [
              0.3333333333333333,
              "#9c179e"
             ],
             [
              0.4444444444444444,
              "#bd3786"
             ],
             [
              0.5555555555555556,
              "#d8576b"
             ],
             [
              0.6666666666666666,
              "#ed7953"
             ],
             [
              0.7777777777777778,
              "#fb9f3a"
             ],
             [
              0.8888888888888888,
              "#fdca26"
             ],
             [
              1,
              "#f0f921"
             ]
            ],
            "type": "heatmapgl"
           }
          ],
          "histogram": [
           {
            "marker": {
             "pattern": {
              "fillmode": "overlay",
              "size": 10,
              "solidity": 0.2
             }
            },
            "type": "histogram"
           }
          ],
          "histogram2d": [
           {
            "colorbar": {
             "outlinewidth": 0,
             "ticks": ""
            },
            "colorscale": [
             [
              0,
              "#0d0887"
             ],
             [
              0.1111111111111111,
              "#46039f"
             ],
             [
              0.2222222222222222,
              "#7201a8"
             ],
             [
              0.3333333333333333,
              "#9c179e"
             ],
             [
              0.4444444444444444,
              "#bd3786"
             ],
             [
              0.5555555555555556,
              "#d8576b"
             ],
             [
              0.6666666666666666,
              "#ed7953"
             ],
             [
              0.7777777777777778,
              "#fb9f3a"
             ],
             [
              0.8888888888888888,
              "#fdca26"
             ],
             [
              1,
              "#f0f921"
             ]
            ],
            "type": "histogram2d"
           }
          ],
          "histogram2dcontour": [
           {
            "colorbar": {
             "outlinewidth": 0,
             "ticks": ""
            },
            "colorscale": [
             [
              0,
              "#0d0887"
             ],
             [
              0.1111111111111111,
              "#46039f"
             ],
             [
              0.2222222222222222,
              "#7201a8"
             ],
             [
              0.3333333333333333,
              "#9c179e"
             ],
             [
              0.4444444444444444,
              "#bd3786"
             ],
             [
              0.5555555555555556,
              "#d8576b"
             ],
             [
              0.6666666666666666,
              "#ed7953"
             ],
             [
              0.7777777777777778,
              "#fb9f3a"
             ],
             [
              0.8888888888888888,
              "#fdca26"
             ],
             [
              1,
              "#f0f921"
             ]
            ],
            "type": "histogram2dcontour"
           }
          ],
          "mesh3d": [
           {
            "colorbar": {
             "outlinewidth": 0,
             "ticks": ""
            },
            "type": "mesh3d"
           }
          ],
          "parcoords": [
           {
            "line": {
             "colorbar": {
              "outlinewidth": 0,
              "ticks": ""
             }
            },
            "type": "parcoords"
           }
          ],
          "pie": [
           {
            "automargin": true,
            "type": "pie"
           }
          ],
          "scatter": [
           {
            "fillpattern": {
             "fillmode": "overlay",
             "size": 10,
             "solidity": 0.2
            },
            "type": "scatter"
           }
          ],
          "scatter3d": [
           {
            "line": {
             "colorbar": {
              "outlinewidth": 0,
              "ticks": ""
             }
            },
            "marker": {
             "colorbar": {
              "outlinewidth": 0,
              "ticks": ""
             }
            },
            "type": "scatter3d"
           }
          ],
          "scattercarpet": [
           {
            "marker": {
             "colorbar": {
              "outlinewidth": 0,
              "ticks": ""
             }
            },
            "type": "scattercarpet"
           }
          ],
          "scattergeo": [
           {
            "marker": {
             "colorbar": {
              "outlinewidth": 0,
              "ticks": ""
             }
            },
            "type": "scattergeo"
           }
          ],
          "scattergl": [
           {
            "marker": {
             "colorbar": {
              "outlinewidth": 0,
              "ticks": ""
             }
            },
            "type": "scattergl"
           }
          ],
          "scattermapbox": [
           {
            "marker": {
             "colorbar": {
              "outlinewidth": 0,
              "ticks": ""
             }
            },
            "type": "scattermapbox"
           }
          ],
          "scatterpolar": [
           {
            "marker": {
             "colorbar": {
              "outlinewidth": 0,
              "ticks": ""
             }
            },
            "type": "scatterpolar"
           }
          ],
          "scatterpolargl": [
           {
            "marker": {
             "colorbar": {
              "outlinewidth": 0,
              "ticks": ""
             }
            },
            "type": "scatterpolargl"
           }
          ],
          "scatterternary": [
           {
            "marker": {
             "colorbar": {
              "outlinewidth": 0,
              "ticks": ""
             }
            },
            "type": "scatterternary"
           }
          ],
          "surface": [
           {
            "colorbar": {
             "outlinewidth": 0,
             "ticks": ""
            },
            "colorscale": [
             [
              0,
              "#0d0887"
             ],
             [
              0.1111111111111111,
              "#46039f"
             ],
             [
              0.2222222222222222,
              "#7201a8"
             ],
             [
              0.3333333333333333,
              "#9c179e"
             ],
             [
              0.4444444444444444,
              "#bd3786"
             ],
             [
              0.5555555555555556,
              "#d8576b"
             ],
             [
              0.6666666666666666,
              "#ed7953"
             ],
             [
              0.7777777777777778,
              "#fb9f3a"
             ],
             [
              0.8888888888888888,
              "#fdca26"
             ],
             [
              1,
              "#f0f921"
             ]
            ],
            "type": "surface"
           }
          ],
          "table": [
           {
            "cells": {
             "fill": {
              "color": "#EBF0F8"
             },
             "line": {
              "color": "white"
             }
            },
            "header": {
             "fill": {
              "color": "#C8D4E3"
             },
             "line": {
              "color": "white"
             }
            },
            "type": "table"
           }
          ]
         },
         "layout": {
          "annotationdefaults": {
           "arrowcolor": "#2a3f5f",
           "arrowhead": 0,
           "arrowwidth": 1
          },
          "autotypenumbers": "strict",
          "coloraxis": {
           "colorbar": {
            "outlinewidth": 0,
            "ticks": ""
           }
          },
          "colorscale": {
           "diverging": [
            [
             0,
             "#8e0152"
            ],
            [
             0.1,
             "#c51b7d"
            ],
            [
             0.2,
             "#de77ae"
            ],
            [
             0.3,
             "#f1b6da"
            ],
            [
             0.4,
             "#fde0ef"
            ],
            [
             0.5,
             "#f7f7f7"
            ],
            [
             0.6,
             "#e6f5d0"
            ],
            [
             0.7,
             "#b8e186"
            ],
            [
             0.8,
             "#7fbc41"
            ],
            [
             0.9,
             "#4d9221"
            ],
            [
             1,
             "#276419"
            ]
           ],
           "sequential": [
            [
             0,
             "#0d0887"
            ],
            [
             0.1111111111111111,
             "#46039f"
            ],
            [
             0.2222222222222222,
             "#7201a8"
            ],
            [
             0.3333333333333333,
             "#9c179e"
            ],
            [
             0.4444444444444444,
             "#bd3786"
            ],
            [
             0.5555555555555556,
             "#d8576b"
            ],
            [
             0.6666666666666666,
             "#ed7953"
            ],
            [
             0.7777777777777778,
             "#fb9f3a"
            ],
            [
             0.8888888888888888,
             "#fdca26"
            ],
            [
             1,
             "#f0f921"
            ]
           ],
           "sequentialminus": [
            [
             0,
             "#0d0887"
            ],
            [
             0.1111111111111111,
             "#46039f"
            ],
            [
             0.2222222222222222,
             "#7201a8"
            ],
            [
             0.3333333333333333,
             "#9c179e"
            ],
            [
             0.4444444444444444,
             "#bd3786"
            ],
            [
             0.5555555555555556,
             "#d8576b"
            ],
            [
             0.6666666666666666,
             "#ed7953"
            ],
            [
             0.7777777777777778,
             "#fb9f3a"
            ],
            [
             0.8888888888888888,
             "#fdca26"
            ],
            [
             1,
             "#f0f921"
            ]
           ]
          },
          "colorway": [
           "#636efa",
           "#EF553B",
           "#00cc96",
           "#ab63fa",
           "#FFA15A",
           "#19d3f3",
           "#FF6692",
           "#B6E880",
           "#FF97FF",
           "#FECB52"
          ],
          "font": {
           "color": "#2a3f5f"
          },
          "geo": {
           "bgcolor": "white",
           "lakecolor": "white",
           "landcolor": "#E5ECF6",
           "showlakes": true,
           "showland": true,
           "subunitcolor": "white"
          },
          "hoverlabel": {
           "align": "left"
          },
          "hovermode": "closest",
          "mapbox": {
           "style": "light"
          },
          "paper_bgcolor": "white",
          "plot_bgcolor": "#E5ECF6",
          "polar": {
           "angularaxis": {
            "gridcolor": "white",
            "linecolor": "white",
            "ticks": ""
           },
           "bgcolor": "#E5ECF6",
           "radialaxis": {
            "gridcolor": "white",
            "linecolor": "white",
            "ticks": ""
           }
          },
          "scene": {
           "xaxis": {
            "backgroundcolor": "#E5ECF6",
            "gridcolor": "white",
            "gridwidth": 2,
            "linecolor": "white",
            "showbackground": true,
            "ticks": "",
            "zerolinecolor": "white"
           },
           "yaxis": {
            "backgroundcolor": "#E5ECF6",
            "gridcolor": "white",
            "gridwidth": 2,
            "linecolor": "white",
            "showbackground": true,
            "ticks": "",
            "zerolinecolor": "white"
           },
           "zaxis": {
            "backgroundcolor": "#E5ECF6",
            "gridcolor": "white",
            "gridwidth": 2,
            "linecolor": "white",
            "showbackground": true,
            "ticks": "",
            "zerolinecolor": "white"
           }
          },
          "shapedefaults": {
           "line": {
            "color": "#2a3f5f"
           }
          },
          "ternary": {
           "aaxis": {
            "gridcolor": "white",
            "linecolor": "white",
            "ticks": ""
           },
           "baxis": {
            "gridcolor": "white",
            "linecolor": "white",
            "ticks": ""
           },
           "bgcolor": "#E5ECF6",
           "caxis": {
            "gridcolor": "white",
            "linecolor": "white",
            "ticks": ""
           }
          },
          "title": {
           "x": 0.05
          },
          "xaxis": {
           "automargin": true,
           "gridcolor": "white",
           "linecolor": "white",
           "ticks": "",
           "title": {
            "standoff": 15
           },
           "zerolinecolor": "white",
           "zerolinewidth": 2
          },
          "yaxis": {
           "automargin": true,
           "gridcolor": "white",
           "linecolor": "white",
           "ticks": "",
           "title": {
            "standoff": 15
           },
           "zerolinecolor": "white",
           "zerolinewidth": 2
          }
         }
        },
        "xaxis": {
         "anchor": "y",
         "domain": [
          0,
          1
         ],
         "title": {
          "text": "Total"
         }
        },
        "yaxis": {
         "anchor": "x",
         "domain": [
          0,
          1
         ]
        }
       }
      },
      "text/html": [
       "<div>                            <div id=\"309a60fc-6357-4bf8-a77c-4a4211bf5574\" class=\"plotly-graph-div\" style=\"height:525px; width:100%;\"></div>            <script type=\"text/javascript\">                require([\"plotly\"], function(Plotly) {                    window.PLOTLYENV=window.PLOTLYENV || {};                                    if (document.getElementById(\"309a60fc-6357-4bf8-a77c-4a4211bf5574\")) {                    Plotly.newPlot(                        \"309a60fc-6357-4bf8-a77c-4a4211bf5574\",                        [{\"alignmentgroup\":\"True\",\"hovertemplate\":\"Total=%{x}<extra></extra>\",\"legendgroup\":\"\",\"marker\":{\"color\":\"#636efa\"},\"name\":\"\",\"notched\":false,\"offsetgroup\":\"\",\"orientation\":\"h\",\"showlegend\":false,\"x\":[null,80.22,340.5255,489.048,634.3785,627.6165,433.692,772.38,76.146,172.746,60.816,107.142,246.4875,453.495,null,590.436,506.6355,457.443,172.2105,84.63,451.71,277.137,69.72,181.44,279.1845,441.756,35.196,184.107,463.89,235.2105,494.1825,737.7615,703.752,202.818,417.564,71.526,328.755,null,461.328,253.008,91.056,117.831,435.456,829.08,32.277,394.632,535.7205,189.0945,119.259,867.615,671.79,234.0975,75.054,16.2015,33.936,722.232,93.114,752.64,759.675,192.843,77.931,351.099,520.4115,166.005,318.108,166.635,70.287,614.943,827.085,19.2465,939.54,652.26,152.838,478.233,705.6315,437.325,463.428,189.0945,822.255,106.995,624.897,304.542,161.7,337.512,256.7775,610.491,401.73,362.943,44.5935,485.037,198.996,471.03,161.553,608.202,94.2375,102.018,922.635,78.435,166.1625,521.01,51.1455,742.2975,218.0115,367.038,223.0725,931.035,172.494,391.419,321.111,860.685,34.629,309.3615,535.374,548.7615,763.4655,85.113,115.185,53.928,115.08,112.224,836.304,419.832,944.622,536.844,474.348,688.6215,169.3125,299.8485,575.736,853.146,291.207,580.419,146.328,550.935,512.19,284.193,138.1275,216.846,545.055,609.0,942.9,950.25,720.3,31.9305,491.085,291.438,316.47,277.788,603.624,272.664,384.468,254.016,786.618,103.824,680.148,484.5225,75.7785,263.97,918.729,588.357,362.712,66.8745,336.5565,160.44,418.95,357.588,1003.59,1039.29,323.064,510.972,367.5525,420.2625,175.14,333.207,166.236,319.788,186.228,165.4485,465.444,273.42,472.311,323.148,162.75,288.204,90.699,56.952,793.716,195.174,77.7735,293.202,242.676,154.392,829.71,107.31,171.7275,78.0045,91.77,26.5545,174.3,374.7975,120.645,241.458,451.3635,271.95,93.2925,217.6335,629.8425,299.565,95.6655,942.4485,247.8735,881.307,484.89,146.223,217.6335,19.194,130.0425,298.116,796.908,180.621,285.705,456.288,62.0025,13.167,90.825,183.036,655.5465,155.652,571.41,532.728,170.877,33.3585,794.6505,310.044,545.37,195.594,91.4025,232.155,69.405,94.1745,235.683,125.517,195.72,263.13,788.508,399.756,256.41,94.185,326.424,536.991,439.8975,369.495,30.219,99.75,494.76,137.004,69.6675,163.233,135.45,276.948,709.317,69.09,160.86,233.52,57.1725,723.24,148.974,783.3,297.108,373.17,354.0075,44.352,203.553,25.263,628.173,352.5795,229.11,400.764,745.395,462.21,587.664,38.85,16.107,628.929,200.214,350.07,78.603,224.4375,356.5485,697.368,423.15,204.6975,65.604,76.356,190.155,272.58,121.128,493.794,252.042,93.0405,209.622,40.9605,51.0405,214.998,125.664,530.67,295.6905,745.836,83.412,172.011,503.559,145.593,74.7075,146.9475,820.365,208.677,66.402,392.6475,218.0745,185.094,216.6885,41.391,96.138,324.2925,135.576,410.508,523.845,395.892,214.746,152.712,208.089,103.635,404.355,49.308,77.175,149.3625,721.98,365.085,150.0975,404.649,151.4835,411.3795,565.215,509.4075,140.6475,736.4385,75.5475,749.7,191.247,141.75,1042.65,379.9215,402.2655,255.15,31.752,374.388,394.275,1002.12,86.625,78.7185,680.064,793.548,209.559,461.286,173.208,343.056,484.974,276.948,150.78,203.175,193.011,128.016,441.693,265.104,352.2225,507.675,334.341,701.8515,407.316,99.33,345.786,55.881,523.3725,314.538,214.935,79.611,294.651,339.36,510.9615,133.917,253.512,398.475,80.661,548.73,83.727,406.875,284.9175,128.4255,258.678,181.818,248.409,194.124,14.679,208.6875,718.7565,282.492,72.3975,288.582,237.426,125.055,359.205,45.927,110.0925,81.396,427.812,100.9155,190.596,85.5855,120.162,185.367,121.59,264.7575,1020.705,213.528,17.094,383.7645,390.7995,65.7405,353.1675,951.825,145.068,90.867,147.798,702.219,49.812,937.818,348.306,214.137,71.568,343.224,91.56,742.812,843.0345,13.419,140.385,20.1075,290.43,144.081,28.4235,41.076,470.673,138.663,333.9525,26.25,87.234,155.19,731.43,833.595,488.985,37.6845,212.73,767.025,310.59,23.751,269.535,572.775,273.0525,233.226,22.659,103.782,527.751,168.21,452.865,609.588,338.31,205.317,174.615,353.094,360.885,40.53,554.148,344.4,194.985,633.99,388.29,207.858,431.445,156.03,24.108,734.076,72.87,206.43,212.688,127.26,209.769,637.728,132.762,568.512,103.0365,432.768,77.6685,33.495,145.74,195.951,92.8725,203.112,152.775,529.515,321.7725,100.485,666.939,225.2775,398.958,731.6925,429.1665,54.0435,288.015,206.7975,72.933,377.58,143.9865,523.971,235.872,132.027,514.773,479.9025,164.682,125.706,570.78,926.9505,160.209,728.112,240.975,154.1295,148.68,122.5245,77.658,102.837,306.81,551.124,96.642,79.674,84.756,118.251,74.76,163.002,308.91,575.9775,270.585,416.178,180.4005,513.2295,550.368,139.923,142.002,118.062,151.284,1034.46,262.458,228.123,203.931,936.6,356.328,469.413,208.425,852.705,517.965,621.243,586.971,543.753,430.71,280.035,74.4555,152.019,451.0275,597.6285,253.26,133.434,269.934,145.971,85.743,326.256,195.258,75.936,198.639,217.182,164.871,226.065,625.905,76.755,293.139,178.164,47.859,236.88,304.92,46.683,164.43,440.937,193.4625,147.672,87.234,68.2395,814.38,343.413,381.3915,133.35,394.3275,209.118,32.1405,121.569,30.408,935.2665,293.643,84.9765,708.225,365.904,457.38,461.5275,620.739,273.798,225.792,96.1905,695.2365,874.125,95.9175,165.648,127.827,867.09,167.895,12.6945,673.995,246.6765,175.917,314.055,251.7165,697.935,212.7825,48.51,92.5575,165.123,311.1885,743.82,116.907,609.168,63.2625,182.952,442.323,35.3115,32.529,259.77,397.215,351.603,764.19,352.674,252.756,49.4235,104.6745,277.6725,146.6325,58.2225,135.3555,125.979,370.125,914.55,207.48,204.246,181.881,75.474,300.573,85.302,588.42,196.14,231.2415,282.576,477.54,175.917,470.988,308.574,618.975,305.55,41.454,36.5505,310.716,45.108,145.404,103.11,136.143,667.38,153.048,211.365,663.2955,404.544,510.615,539.343,497.07,458.6925,113.568,261.198,657.531,1023.75,507.444,101.808,207.585,760.4415,835.2855,527.5095,180.6,72.429,131.208,80.955,507.906,317.226,733.6035,130.8825,829.08,187.32,525.231,37.611,142.947,110.124,187.866,856.4535,138.978,270.2595,98.028,239.4,175.0455,732.27,408.492,383.523,93.744,176.4,20.685,557.718,56.406,860.475,596.82,616.98,769.104,887.922,408.7335,89.0715,150.423,79.149,266.028,40.341,684.915,55.2825,116.1405,597.0405,93.744,143.22,182.91,384.72,267.3405,817.236,300.216,608.076,197.925,232.638,810.6,757.365,536.592,56.1225,233.1,801.864,239.589,86.247,401.688,72.009,401.268,631.1445,499.7265,55.041,137.865,151.515,480.0285,98.049,132.5625,830.3715,183.12,397.992,32.151,369.684,53.34,548.163,603.876,57.6975,190.4805,432.9885,48.7305,287.91,1022.385,680.61,97.881,57.078,63.9135,257.145,97.419,455.1225,144.963,253.68,495.3165,462.672,714.3255,325.374,195.678,210.966,18.6375,652.89,90.3,422.73,341.0925,99.9075,408.408,446.964,333.984,284.592,403.872,247.59,222.138,100.128,10.6785,216.4365,441.588,92.442,681.4395,130.032,681.975,779.31,88.704,262.794,99.54,95.865,299.3655,54.999,202.335,281.169,586.635,184.086,163.611,63.315,82.887,31.227,22.386,295.407,76.923,23.499,688.716,624.33,77.805,206.808,390.9465,554.295,503.7375,345.0195,177.408,118.902,362.817,450.1035,90.5835,26.796,106.596,375.3645,250.7085,106.5015,760.452,131.922,76.5765,271.278,182.427,59.325,225.015,561.078,97.818,548.184,54.9675,41.7375,756.168,101.64,348.705,85.512,335.895,216.846,175.014,335.013,92.295,771.435,102.396,807.66,439.215,486.444,485.5725,148.995,317.835,832.944,446.439,297.801,629.16,331.128,423.738,193.074,145.5825,84.7455,122.472,329.196,888.405,435.12,167.034,514.605,91.8225,235.746,782.208,431.256,313.74,223.587,44.9925,397.614,217.2555,82.719,338.2155,103.131,26.733,611.079,221.886,57.876,92.7255,374.409,833.9625,53.151,629.496,175.035,781.62,470.988,397.845,270.018,579.8415,469.77,290.0835,360.927,279.384,943.299,479.64,266.6475,74.088,690.018,176.925,56.469,188.0025,222.012,125.7165,68.985,263.97,88.368,415.233,312.8895,477.1305,289.926,165.9,932.337,96.579,43.869,16.275,304.983,69.993,80.367,314.685,255.1815,49.77,181.0725,888.615,271.2885,640.038,252.252,180.873,104.832,313.572,167.58,26.7225,71.1585,250.278,244.23,921.186,734.706,708.3195,334.4775,30.996,520.8,864.57,633.108,296.94,804.3,121.863,183.645,63.9975,42.3675,1022.49,33.432,69.111,649.299],\"x0\":\" \",\"xaxis\":\"x\",\"y0\":\" \",\"yaxis\":\"y\",\"type\":\"box\"}],                        {\"template\":{\"data\":{\"histogram2dcontour\":[{\"type\":\"histogram2dcontour\",\"colorbar\":{\"outlinewidth\":0,\"ticks\":\"\"},\"colorscale\":[[0.0,\"#0d0887\"],[0.1111111111111111,\"#46039f\"],[0.2222222222222222,\"#7201a8\"],[0.3333333333333333,\"#9c179e\"],[0.4444444444444444,\"#bd3786\"],[0.5555555555555556,\"#d8576b\"],[0.6666666666666666,\"#ed7953\"],[0.7777777777777778,\"#fb9f3a\"],[0.8888888888888888,\"#fdca26\"],[1.0,\"#f0f921\"]]}],\"choropleth\":[{\"type\":\"choropleth\",\"colorbar\":{\"outlinewidth\":0,\"ticks\":\"\"}}],\"histogram2d\":[{\"type\":\"histogram2d\",\"colorbar\":{\"outlinewidth\":0,\"ticks\":\"\"},\"colorscale\":[[0.0,\"#0d0887\"],[0.1111111111111111,\"#46039f\"],[0.2222222222222222,\"#7201a8\"],[0.3333333333333333,\"#9c179e\"],[0.4444444444444444,\"#bd3786\"],[0.5555555555555556,\"#d8576b\"],[0.6666666666666666,\"#ed7953\"],[0.7777777777777778,\"#fb9f3a\"],[0.8888888888888888,\"#fdca26\"],[1.0,\"#f0f921\"]]}],\"heatmap\":[{\"type\":\"heatmap\",\"colorbar\":{\"outlinewidth\":0,\"ticks\":\"\"},\"colorscale\":[[0.0,\"#0d0887\"],[0.1111111111111111,\"#46039f\"],[0.2222222222222222,\"#7201a8\"],[0.3333333333333333,\"#9c179e\"],[0.4444444444444444,\"#bd3786\"],[0.5555555555555556,\"#d8576b\"],[0.6666666666666666,\"#ed7953\"],[0.7777777777777778,\"#fb9f3a\"],[0.8888888888888888,\"#fdca26\"],[1.0,\"#f0f921\"]]}],\"heatmapgl\":[{\"type\":\"heatmapgl\",\"colorbar\":{\"outlinewidth\":0,\"ticks\":\"\"},\"colorscale\":[[0.0,\"#0d0887\"],[0.1111111111111111,\"#46039f\"],[0.2222222222222222,\"#7201a8\"],[0.3333333333333333,\"#9c179e\"],[0.4444444444444444,\"#bd3786\"],[0.5555555555555556,\"#d8576b\"],[0.6666666666666666,\"#ed7953\"],[0.7777777777777778,\"#fb9f3a\"],[0.8888888888888888,\"#fdca26\"],[1.0,\"#f0f921\"]]}],\"contourcarpet\":[{\"type\":\"contourcarpet\",\"colorbar\":{\"outlinewidth\":0,\"ticks\":\"\"}}],\"contour\":[{\"type\":\"contour\",\"colorbar\":{\"outlinewidth\":0,\"ticks\":\"\"},\"colorscale\":[[0.0,\"#0d0887\"],[0.1111111111111111,\"#46039f\"],[0.2222222222222222,\"#7201a8\"],[0.3333333333333333,\"#9c179e\"],[0.4444444444444444,\"#bd3786\"],[0.5555555555555556,\"#d8576b\"],[0.6666666666666666,\"#ed7953\"],[0.7777777777777778,\"#fb9f3a\"],[0.8888888888888888,\"#fdca26\"],[1.0,\"#f0f921\"]]}],\"surface\":[{\"type\":\"surface\",\"colorbar\":{\"outlinewidth\":0,\"ticks\":\"\"},\"colorscale\":[[0.0,\"#0d0887\"],[0.1111111111111111,\"#46039f\"],[0.2222222222222222,\"#7201a8\"],[0.3333333333333333,\"#9c179e\"],[0.4444444444444444,\"#bd3786\"],[0.5555555555555556,\"#d8576b\"],[0.6666666666666666,\"#ed7953\"],[0.7777777777777778,\"#fb9f3a\"],[0.8888888888888888,\"#fdca26\"],[1.0,\"#f0f921\"]]}],\"mesh3d\":[{\"type\":\"mesh3d\",\"colorbar\":{\"outlinewidth\":0,\"ticks\":\"\"}}],\"scatter\":[{\"fillpattern\":{\"fillmode\":\"overlay\",\"size\":10,\"solidity\":0.2},\"type\":\"scatter\"}],\"parcoords\":[{\"type\":\"parcoords\",\"line\":{\"colorbar\":{\"outlinewidth\":0,\"ticks\":\"\"}}}],\"scatterpolargl\":[{\"type\":\"scatterpolargl\",\"marker\":{\"colorbar\":{\"outlinewidth\":0,\"ticks\":\"\"}}}],\"bar\":[{\"error_x\":{\"color\":\"#2a3f5f\"},\"error_y\":{\"color\":\"#2a3f5f\"},\"marker\":{\"line\":{\"color\":\"#E5ECF6\",\"width\":0.5},\"pattern\":{\"fillmode\":\"overlay\",\"size\":10,\"solidity\":0.2}},\"type\":\"bar\"}],\"scattergeo\":[{\"type\":\"scattergeo\",\"marker\":{\"colorbar\":{\"outlinewidth\":0,\"ticks\":\"\"}}}],\"scatterpolar\":[{\"type\":\"scatterpolar\",\"marker\":{\"colorbar\":{\"outlinewidth\":0,\"ticks\":\"\"}}}],\"histogram\":[{\"marker\":{\"pattern\":{\"fillmode\":\"overlay\",\"size\":10,\"solidity\":0.2}},\"type\":\"histogram\"}],\"scattergl\":[{\"type\":\"scattergl\",\"marker\":{\"colorbar\":{\"outlinewidth\":0,\"ticks\":\"\"}}}],\"scatter3d\":[{\"type\":\"scatter3d\",\"line\":{\"colorbar\":{\"outlinewidth\":0,\"ticks\":\"\"}},\"marker\":{\"colorbar\":{\"outlinewidth\":0,\"ticks\":\"\"}}}],\"scattermapbox\":[{\"type\":\"scattermapbox\",\"marker\":{\"colorbar\":{\"outlinewidth\":0,\"ticks\":\"\"}}}],\"scatterternary\":[{\"type\":\"scatterternary\",\"marker\":{\"colorbar\":{\"outlinewidth\":0,\"ticks\":\"\"}}}],\"scattercarpet\":[{\"type\":\"scattercarpet\",\"marker\":{\"colorbar\":{\"outlinewidth\":0,\"ticks\":\"\"}}}],\"carpet\":[{\"aaxis\":{\"endlinecolor\":\"#2a3f5f\",\"gridcolor\":\"white\",\"linecolor\":\"white\",\"minorgridcolor\":\"white\",\"startlinecolor\":\"#2a3f5f\"},\"baxis\":{\"endlinecolor\":\"#2a3f5f\",\"gridcolor\":\"white\",\"linecolor\":\"white\",\"minorgridcolor\":\"white\",\"startlinecolor\":\"#2a3f5f\"},\"type\":\"carpet\"}],\"table\":[{\"cells\":{\"fill\":{\"color\":\"#EBF0F8\"},\"line\":{\"color\":\"white\"}},\"header\":{\"fill\":{\"color\":\"#C8D4E3\"},\"line\":{\"color\":\"white\"}},\"type\":\"table\"}],\"barpolar\":[{\"marker\":{\"line\":{\"color\":\"#E5ECF6\",\"width\":0.5},\"pattern\":{\"fillmode\":\"overlay\",\"size\":10,\"solidity\":0.2}},\"type\":\"barpolar\"}],\"pie\":[{\"automargin\":true,\"type\":\"pie\"}]},\"layout\":{\"autotypenumbers\":\"strict\",\"colorway\":[\"#636efa\",\"#EF553B\",\"#00cc96\",\"#ab63fa\",\"#FFA15A\",\"#19d3f3\",\"#FF6692\",\"#B6E880\",\"#FF97FF\",\"#FECB52\"],\"font\":{\"color\":\"#2a3f5f\"},\"hovermode\":\"closest\",\"hoverlabel\":{\"align\":\"left\"},\"paper_bgcolor\":\"white\",\"plot_bgcolor\":\"#E5ECF6\",\"polar\":{\"bgcolor\":\"#E5ECF6\",\"angularaxis\":{\"gridcolor\":\"white\",\"linecolor\":\"white\",\"ticks\":\"\"},\"radialaxis\":{\"gridcolor\":\"white\",\"linecolor\":\"white\",\"ticks\":\"\"}},\"ternary\":{\"bgcolor\":\"#E5ECF6\",\"aaxis\":{\"gridcolor\":\"white\",\"linecolor\":\"white\",\"ticks\":\"\"},\"baxis\":{\"gridcolor\":\"white\",\"linecolor\":\"white\",\"ticks\":\"\"},\"caxis\":{\"gridcolor\":\"white\",\"linecolor\":\"white\",\"ticks\":\"\"}},\"coloraxis\":{\"colorbar\":{\"outlinewidth\":0,\"ticks\":\"\"}},\"colorscale\":{\"sequential\":[[0.0,\"#0d0887\"],[0.1111111111111111,\"#46039f\"],[0.2222222222222222,\"#7201a8\"],[0.3333333333333333,\"#9c179e\"],[0.4444444444444444,\"#bd3786\"],[0.5555555555555556,\"#d8576b\"],[0.6666666666666666,\"#ed7953\"],[0.7777777777777778,\"#fb9f3a\"],[0.8888888888888888,\"#fdca26\"],[1.0,\"#f0f921\"]],\"sequentialminus\":[[0.0,\"#0d0887\"],[0.1111111111111111,\"#46039f\"],[0.2222222222222222,\"#7201a8\"],[0.3333333333333333,\"#9c179e\"],[0.4444444444444444,\"#bd3786\"],[0.5555555555555556,\"#d8576b\"],[0.6666666666666666,\"#ed7953\"],[0.7777777777777778,\"#fb9f3a\"],[0.8888888888888888,\"#fdca26\"],[1.0,\"#f0f921\"]],\"diverging\":[[0,\"#8e0152\"],[0.1,\"#c51b7d\"],[0.2,\"#de77ae\"],[0.3,\"#f1b6da\"],[0.4,\"#fde0ef\"],[0.5,\"#f7f7f7\"],[0.6,\"#e6f5d0\"],[0.7,\"#b8e186\"],[0.8,\"#7fbc41\"],[0.9,\"#4d9221\"],[1,\"#276419\"]]},\"xaxis\":{\"gridcolor\":\"white\",\"linecolor\":\"white\",\"ticks\":\"\",\"title\":{\"standoff\":15},\"zerolinecolor\":\"white\",\"automargin\":true,\"zerolinewidth\":2},\"yaxis\":{\"gridcolor\":\"white\",\"linecolor\":\"white\",\"ticks\":\"\",\"title\":{\"standoff\":15},\"zerolinecolor\":\"white\",\"automargin\":true,\"zerolinewidth\":2},\"scene\":{\"xaxis\":{\"backgroundcolor\":\"#E5ECF6\",\"gridcolor\":\"white\",\"linecolor\":\"white\",\"showbackground\":true,\"ticks\":\"\",\"zerolinecolor\":\"white\",\"gridwidth\":2},\"yaxis\":{\"backgroundcolor\":\"#E5ECF6\",\"gridcolor\":\"white\",\"linecolor\":\"white\",\"showbackground\":true,\"ticks\":\"\",\"zerolinecolor\":\"white\",\"gridwidth\":2},\"zaxis\":{\"backgroundcolor\":\"#E5ECF6\",\"gridcolor\":\"white\",\"linecolor\":\"white\",\"showbackground\":true,\"ticks\":\"\",\"zerolinecolor\":\"white\",\"gridwidth\":2}},\"shapedefaults\":{\"line\":{\"color\":\"#2a3f5f\"}},\"annotationdefaults\":{\"arrowcolor\":\"#2a3f5f\",\"arrowhead\":0,\"arrowwidth\":1},\"geo\":{\"bgcolor\":\"white\",\"landcolor\":\"#E5ECF6\",\"subunitcolor\":\"white\",\"showland\":true,\"showlakes\":true,\"lakecolor\":\"white\"},\"title\":{\"x\":0.05},\"mapbox\":{\"style\":\"light\"}}},\"xaxis\":{\"anchor\":\"y\",\"domain\":[0.0,1.0],\"title\":{\"text\":\"Total\"}},\"yaxis\":{\"anchor\":\"x\",\"domain\":[0.0,1.0]},\"legend\":{\"tracegroupgap\":0},\"margin\":{\"t\":60},\"boxmode\":\"group\"},                        {\"responsive\": true}                    ).then(function(){\n",
       "                            \n",
       "var gd = document.getElementById('309a60fc-6357-4bf8-a77c-4a4211bf5574');\n",
       "var x = new MutationObserver(function (mutations, observer) {{\n",
       "        var display = window.getComputedStyle(gd).display;\n",
       "        if (!display || display === 'none') {{\n",
       "            console.log([gd, 'removed!']);\n",
       "            Plotly.purge(gd);\n",
       "            observer.disconnect();\n",
       "        }}\n",
       "}});\n",
       "\n",
       "// Listen for the removal of the full notebook cells\n",
       "var notebookContainer = gd.closest('#notebook-container');\n",
       "if (notebookContainer) {{\n",
       "    x.observe(notebookContainer, {childList: true});\n",
       "}}\n",
       "\n",
       "// Listen for the clearing of the current output cell\n",
       "var outputEl = gd.closest('.output');\n",
       "if (outputEl) {{\n",
       "    x.observe(outputEl, {childList: true});\n",
       "}}\n",
       "\n",
       "                        })                };                });            </script>        </div>"
      ]
     },
     "metadata": {},
     "output_type": "display_data"
    }
   ],
   "source": [
    "px.box(data_frame=df, x='Total')"
   ]
  },
  {
   "cell_type": "code",
   "execution_count": 240,
   "id": "fb5fbfd9",
   "metadata": {},
   "outputs": [
    {
     "data": {
      "text/html": [
       "<div>\n",
       "<style scoped>\n",
       "    .dataframe tbody tr th:only-of-type {\n",
       "        vertical-align: middle;\n",
       "    }\n",
       "\n",
       "    .dataframe tbody tr th {\n",
       "        vertical-align: top;\n",
       "    }\n",
       "\n",
       "    .dataframe thead th {\n",
       "        text-align: right;\n",
       "    }\n",
       "</style>\n",
       "<table border=\"1\" class=\"dataframe\">\n",
       "  <thead>\n",
       "    <tr style=\"text-align: right;\">\n",
       "      <th></th>\n",
       "      <th>Invoice ID</th>\n",
       "      <th>Branch</th>\n",
       "      <th>Customer type</th>\n",
       "      <th>Gender</th>\n",
       "      <th>Product line</th>\n",
       "      <th>Unit price</th>\n",
       "      <th>Quantity</th>\n",
       "      <th>Tax 5%</th>\n",
       "      <th>Total</th>\n",
       "      <th>Date</th>\n",
       "      <th>Time</th>\n",
       "      <th>Payment</th>\n",
       "      <th>Rating</th>\n",
       "      <th>City</th>\n",
       "    </tr>\n",
       "  </thead>\n",
       "  <tbody>\n",
       "    <tr>\n",
       "      <th>0</th>\n",
       "      <td>750-67-8428</td>\n",
       "      <td>A</td>\n",
       "      <td>Normal</td>\n",
       "      <td>Male</td>\n",
       "      <td>Health and beauty</td>\n",
       "      <td>74.69</td>\n",
       "      <td>7</td>\n",
       "      <td>26.1415</td>\n",
       "      <td>NaN</td>\n",
       "      <td>1/5/2019</td>\n",
       "      <td>13:08</td>\n",
       "      <td>Ewallet</td>\n",
       "      <td>9.1</td>\n",
       "      <td>Yangon</td>\n",
       "    </tr>\n",
       "    <tr>\n",
       "      <th>14</th>\n",
       "      <td>829-34-3910</td>\n",
       "      <td>A</td>\n",
       "      <td>Normal</td>\n",
       "      <td>Male</td>\n",
       "      <td>Health and beauty</td>\n",
       "      <td>71.38</td>\n",
       "      <td>10</td>\n",
       "      <td>35.6900</td>\n",
       "      <td>NaN</td>\n",
       "      <td>3/29/2019</td>\n",
       "      <td>19:21</td>\n",
       "      <td>Cash</td>\n",
       "      <td>5.7</td>\n",
       "      <td>Yangon</td>\n",
       "    </tr>\n",
       "    <tr>\n",
       "      <th>37</th>\n",
       "      <td>272-65-1806</td>\n",
       "      <td>A</td>\n",
       "      <td>Normal</td>\n",
       "      <td>Male</td>\n",
       "      <td>Electronic accessories</td>\n",
       "      <td>60.88</td>\n",
       "      <td>9</td>\n",
       "      <td>27.3960</td>\n",
       "      <td>NaN</td>\n",
       "      <td>1/15/2019</td>\n",
       "      <td>17:17</td>\n",
       "      <td>Ewallet</td>\n",
       "      <td>4.7</td>\n",
       "      <td>Yangon</td>\n",
       "    </tr>\n",
       "  </tbody>\n",
       "</table>\n",
       "</div>"
      ],
      "text/plain": [
       "     Invoice ID Branch Customer type Gender            Product line  \\\n",
       "0   750-67-8428      A        Normal   Male       Health and beauty   \n",
       "14  829-34-3910      A        Normal   Male       Health and beauty   \n",
       "37  272-65-1806      A        Normal   Male  Electronic accessories   \n",
       "\n",
       "    Unit price  Quantity   Tax 5%  Total       Date   Time  Payment  Rating  \\\n",
       "0        74.69         7  26.1415    NaN   1/5/2019  13:08  Ewallet     9.1   \n",
       "14       71.38        10  35.6900    NaN  3/29/2019  19:21     Cash     5.7   \n",
       "37       60.88         9  27.3960    NaN  1/15/2019  17:17  Ewallet     4.7   \n",
       "\n",
       "      City  \n",
       "0   Yangon  \n",
       "14  Yangon  \n",
       "37  Yangon  "
      ]
     },
     "execution_count": 240,
     "metadata": {},
     "output_type": "execute_result"
    }
   ],
   "source": [
    "df[df['Total'].isnull()]"
   ]
  },
  {
   "cell_type": "markdown",
   "id": "35ac8dd0",
   "metadata": {},
   "source": [
    "<span style=\"color:#b30000;font-size:20px;\">Problem :Total Column has NaN Values </span>"
   ]
  },
  {
   "cell_type": "markdown",
   "id": "a77824e0",
   "metadata": {},
   "source": [
    "<span style=\"color:#2929a3;font-size:20px;\">Solution : Total Column can be calculated from the equation (Unit Price * Quantity) + Tax </span>"
   ]
  },
  {
   "cell_type": "markdown",
   "id": "85b3282e",
   "metadata": {},
   "source": [
    "<span style=\"color:#2929a3;font-size:20px;\"><b>Code</b> </span>"
   ]
  },
  {
   "cell_type": "code",
   "execution_count": 241,
   "id": "754a2720",
   "metadata": {},
   "outputs": [],
   "source": [
    "### Create calc_total Function\n",
    "def calc_total(row):\n",
    "    return np.round((row['Unit price'] * row['Quantity']) + row['Tax 5%'], 4) "
   ]
  },
  {
   "cell_type": "code",
   "execution_count": 242,
   "id": "a2d2f420",
   "metadata": {},
   "outputs": [],
   "source": [
    "### Apply calc_total Function\n",
    "df['Total'] = df.apply(calc_total, axis=1)"
   ]
  },
  {
   "cell_type": "markdown",
   "id": "4bf35fa6",
   "metadata": {},
   "source": [
    "<span style=\"color:#2929a3;font-size:20px;\"><b>Test</b> </span>"
   ]
  },
  {
   "cell_type": "code",
   "execution_count": 243,
   "id": "cb018e6a",
   "metadata": {},
   "outputs": [
    {
     "data": {
      "text/plain": [
       "0"
      ]
     },
     "execution_count": 243,
     "metadata": {},
     "output_type": "execute_result"
    }
   ],
   "source": [
    "df['Total'].isnull().sum()"
   ]
  },
  {
   "cell_type": "markdown",
   "id": "302d195b",
   "metadata": {},
   "source": [
    "## 12 - \"Date\" Column"
   ]
  },
  {
   "cell_type": "code",
   "execution_count": 244,
   "id": "c77c45d4",
   "metadata": {},
   "outputs": [
    {
     "data": {
      "text/plain": [
       "array(['1/5/2019', '3/8/2019', '3/3/2019', '1/27/2019', '2/8/2019',\n",
       "       '3/25/2019', '2/25/2019', '2/24/2019', '1/10/2019', '2/20/2019',\n",
       "       '2/6/2019', '3/9/2019', '2/12/2019', '2/7/2019', '3/29/2019',\n",
       "       '1/15/2019', '3/11/2019', '1/1/2019', '1/21/2019', '3/5/2019',\n",
       "       '3/15/2019', '2/17/2019', '3/2/2019', '3/22/2019', '3/10/2019',\n",
       "       '1/25/2019', '1/28/2019', '1/7/2019', '3/23/2019', '1/17/2019',\n",
       "       '2/2/2019', '3/4/2019', '3/16/2019', '2/27/2019', '2/10/2019',\n",
       "       '3/19/2019', '2/3/2019', '3/7/2019', '2/28/2019', '3/27/2019',\n",
       "       '1/20/2019', '3/12/2019', '2/15/2019', '3/6/2019', '2/14/2019',\n",
       "       '3/13/2019', '1/24/2019', '1/6/2019', '2/11/2019', '1/22/2019',\n",
       "       '1/13/2019', '1/9/2019', '1/12/2019', '1/26/2019', '1/23/2019',\n",
       "       '2/23/2019', '1/2/2019', '2/9/2019', '3/26/2019', '3/1/2019',\n",
       "       '2/1/2019', '3/28/2019', '3/24/2019', '2/5/2019', '1/19/2019',\n",
       "       '1/16/2019', '1/8/2019', '2/18/2019', '1/18/2019', '2/16/2019',\n",
       "       '2/22/2019', '1/29/2019', '1/4/2019', '3/30/2019', '1/30/2019',\n",
       "       '1/3/2019', '3/21/2019', '2/13/2019', '1/14/2019', '3/18/2019',\n",
       "       '3/20/2019', '2/21/2019', '1/31/2019', '1/11/2019', '2/26/2019',\n",
       "       '3/17/2019', '3/14/2019', '2/4/2019', '2/19/2019'], dtype=object)"
      ]
     },
     "execution_count": 244,
     "metadata": {},
     "output_type": "execute_result"
    }
   ],
   "source": [
    "df['Date'].unique()"
   ]
  },
  {
   "cell_type": "markdown",
   "id": "991fe6b3",
   "metadata": {},
   "source": [
    "## 13 - \"Time\" Column"
   ]
  },
  {
   "cell_type": "code",
   "execution_count": 245,
   "id": "46c71075",
   "metadata": {},
   "outputs": [
    {
     "data": {
      "text/plain": [
       "array(['13:08', '10:29', '13:23', '8 - 30 PM', '10:37', '18:30', '14:36',\n",
       "       '11:38', '17:15', '13:27', '18:07', '17:03', '10:25', '16:48',\n",
       "       '19:21', '16:19', '11:03', '10:39', '18:00', '15:30', '11:24',\n",
       "       '10:40', '12:20', '11:15', '17:36', '19:20', '15:31', '12:17',\n",
       "       '19:48', '15:36', '19:39', '12:43', '14:49', '10:12', '10:42',\n",
       "       '12:28', '19:15', '17:17', '13:24', '13:01', '18:45', '10:11',\n",
       "       '13:03', '20:39', '19:47', '17:24', '15:47', '12:45', '17:08',\n",
       "       '10:19', '15:10', '14:42', '15:46', '11:49', '19:01', '11:26',\n",
       "       '11:28', '15:55', '20:36', '17:47', '10:55', '13:40', '12:27',\n",
       "       '14:35', '16:40', '15:43', '15:01', '10:04', '18:50', '12:46',\n",
       "       '18:17', '18:21', '17:04', '14:20', '15:48', '16:24', '18:56',\n",
       "       '19:56', '18:37', '10:17', '14:31', '10:23', '20:35', '16:57',\n",
       "       '17:55', '19:54', '16:42', '12:09', '20:05', '20:38', '13:11',\n",
       "       '10:16', '18:14', '13:22', '11:27', '16:44', '18:19', '14:50',\n",
       "       '20:54', '20:19', '10:43', '14:30', '11:32', '10:41', '12:44',\n",
       "       '20:07', '20:31', '12:29', '15:26', '20:48', '12:02', '17:26',\n",
       "       '19:52', '14:57', '18:44', '13:26', '16:17', '15:57', '13:18',\n",
       "       '20:34', '18:36', '14:40', '16:43', '20:59', '15:39', '12:21',\n",
       "       '19:25', '13:00', '13:48', '19:57', '10:36', '16:37', '17:11',\n",
       "       '15:07', '16:07', '11:56', '18:23', '13:05', '19:40', '13:58',\n",
       "       '14:43', '19:18', '16:21', '19:44', '19:42', '15:24', '14:12',\n",
       "       '13:32', '16:20', '16:31', '11:36', '19:17', '17:34', '12:04',\n",
       "       '17:01', '10:50', '19:16', '16:47', '10:00', '11:51', '15:00',\n",
       "       '11:19', '19:46', '19:00', '10:53', '12:50', '20:50', '13:41',\n",
       "       '19:08', '20:23', '11:30', '19:30', '18:03', '10:13', '19:58',\n",
       "       '10:01', '11:57', '10:02', '14:51', '12:42', '17:38', '20:24',\n",
       "       '18:08', '15:53', '15:05', '18:27', '16:55', '12:58', '18:59',\n",
       "       '13:44', '13:46', '18:06', '12:38', '15:56', '14:29', '19:14',\n",
       "       '10:52', '12:55', '19:28', '13:52', '10:54', '18:31', '18:24',\n",
       "       '18:09', '15:16', '17:07', '19:26', '11:20', '16:49', '12:01',\n",
       "       '11:25', '18:42', '14:47', '19:43', '14:04', '16:11', '19:06',\n",
       "       '15:34', '11:22', '11:23', '10:46', '13:25', '14:53', '19:22',\n",
       "       '11:00', '19:24', '17:22', '20:55', '16:05', '13:34', '18:13',\n",
       "       '11:44', '15:51', '16:52', '20:52', '16:28', '13:29', '11:09',\n",
       "       '15:02', '14:21', '18:01', '13:30', '14:38', '17:37', '17:20',\n",
       "       '20:29', '11:46', '13:42', '14:44', '14:16', '15:54', '10:21',\n",
       "       '16:46', '20:14', '17:09', '17:43', '19:05', '10:08', '13:12',\n",
       "       '20:51', '17:29', '11:34', '18:58', '20:26', '15:08', '13:21',\n",
       "       '12:48', '19:53', '19:09', '16:30', '13:07', '18:48', '17:27',\n",
       "       '15:59', '11:21', '15:49', '13:02', '20:21', '15:04', '16:10',\n",
       "       '12:14', '11:06', '18:22', '19:02', '15:44', '20:01', '13:45',\n",
       "       '15:40', '16:58', '11:12', '15:12', '20:37', '17:44', '16:23',\n",
       "       '12:12', '19:33', '14:28', '17:54', '12:25', '12:52', '19:50',\n",
       "       '15:32', '13:19', '13:37', '14:55', '12:31', '10:26', '20:18',\n",
       "       '20:04', '13:38', '17:30', '15:28', '19:07', '18:55', '19:36',\n",
       "       '10:57', '17:13', '13:57', '13:53', '16:53', '16:51', '15:37',\n",
       "       '20:15', '19:35', '15:42', '14:11', '17:58', '11:02', '15:09',\n",
       "       '13:47', '16:59', '14:15', '15:19', '18:33', '12:10', '11:40',\n",
       "       '16:54', '15:25', '20:47', '18:20', '11:48', '14:14', '11:17',\n",
       "       '12:40', '17:53', '16:36', '10:48', '18:05', '12:07', '19:49',\n",
       "       '15:52', '20:46', '10:34', '13:55', '11:43', '16:03', '20:03',\n",
       "       '19:41', '18:04', '10:31', '13:28', '17:16', '18:43', '10:30',\n",
       "       '20:40', '12:08', '17:45', '10:28', '10:49', '12:34', '18:51',\n",
       "       '19:38', '12:32', '10:33', '19:55', '14:33', '13:54', '12:15',\n",
       "       '12:37', '15:06', '15:58', '14:03', '16:38', '11:07', '12:23',\n",
       "       '14:13', '19:11', '18:53', '14:22', '10:06', '20:08', '12:56',\n",
       "       '10:18', '11:45', '16:08', '12:24', '19:51', '18:10', '15:27',\n",
       "       '16:04', '14:41', '14:19', '14:08', '11:29', '12:16', '20:00',\n",
       "       '15:29', '14:58', '11:52', '17:46', '14:45', '11:39', '13:06',\n",
       "       '20:43', '16:34', '13:10', '17:10', '10:22', '19:29', '14:27',\n",
       "       '12:22', '11:59', '17:59', '12:51', '13:56', '19:45', '16:18',\n",
       "       '18:57', '11:18', '14:06', '20:13', '15:14', '16:06', '12:47',\n",
       "       '20:42', '20:10', '14:24', '11:42', '17:49', '15:33', '10:38',\n",
       "       '12:39', '14:26', '12:41', '15:20', '16:33', '20:44', '11:16',\n",
       "       '12:30', '17:48', '20:30', '13:59', '11:58', '16:50', '18:02',\n",
       "       '17:52', '20:32', '16:09', '11:33', '15:15', '20:06', '16:26',\n",
       "       '18:38', '16:45', '18:41', '17:12', '14:00', '16:32', '10:10',\n",
       "       '10:05', '18:15', '11:01', '15:21', '16:16', '11:05', '19:31',\n",
       "       '18:35', '13:51', '12:35', '11:55', '15:11', '14:48', '12:36',\n",
       "       '13:35', '15:45', '14:25', '15:18', '10:03', '13:14', '16:35',\n",
       "       '20:57', '13:50', '17:35', '17:56', '10:44', '10:09', '10:58',\n",
       "       '13:49', '11:10', '13:33', '14:05', '16:27', '15:23', '18:18',\n",
       "       '15:17', '19:12'], dtype=object)"
      ]
     },
     "execution_count": 245,
     "metadata": {},
     "output_type": "execute_result"
    }
   ],
   "source": [
    "df['Time'].unique()"
   ]
  },
  {
   "cell_type": "markdown",
   "id": "195b1bd9",
   "metadata": {},
   "source": [
    "<span style=\"color:#b30000;font-size:20px;\">Problem : Time Column has 8 - 30 PM instead of 20:30 </span>"
   ]
  },
  {
   "cell_type": "markdown",
   "id": "d422e6de",
   "metadata": {},
   "source": [
    "<span style=\"color:#2929a3;font-size:20px;\">Solution : Create fix_time function to replace 8-30 with 20:30 </span>"
   ]
  },
  {
   "cell_type": "markdown",
   "id": "29912c1a",
   "metadata": {},
   "source": [
    "<span style=\"color:#2929a3;font-size:20px;\"><b>Code</b> </span>"
   ]
  },
  {
   "cell_type": "code",
   "execution_count": 246,
   "id": "0928c91a",
   "metadata": {},
   "outputs": [],
   "source": [
    "### Create fix_time Funcion\n",
    "def fix_time(v):\n",
    "    if v == '8 - 30 PM':\n",
    "        return '20:30'\n",
    "    else:\n",
    "        return v"
   ]
  },
  {
   "cell_type": "code",
   "execution_count": 247,
   "id": "5c597e09",
   "metadata": {},
   "outputs": [],
   "source": [
    "### Apply fix_time Function\n",
    "df['Time'] = df['Time'].apply(fix_time)"
   ]
  },
  {
   "cell_type": "markdown",
   "id": "17560bad",
   "metadata": {},
   "source": [
    "<span style=\"color:#2929a3;font-size:20px;\"><b>Test</b> </span>"
   ]
  },
  {
   "cell_type": "code",
   "execution_count": 248,
   "id": "b148201b",
   "metadata": {},
   "outputs": [
    {
     "data": {
      "text/plain": [
       "'20:30'"
      ]
     },
     "execution_count": 248,
     "metadata": {},
     "output_type": "execute_result"
    }
   ],
   "source": [
    "df['Time'].unique()[3]"
   ]
  },
  {
   "cell_type": "markdown",
   "id": "fc6707cc",
   "metadata": {},
   "source": [
    "## 14 -  \"Payment\" Column"
   ]
  },
  {
   "cell_type": "code",
   "execution_count": 249,
   "id": "d697fd38",
   "metadata": {},
   "outputs": [
    {
     "data": {
      "text/plain": [
       "array(['Ewallet', 'Cash', 'Credit card'], dtype=object)"
      ]
     },
     "execution_count": 249,
     "metadata": {},
     "output_type": "execute_result"
    }
   ],
   "source": [
    "df['Payment'].unique()"
   ]
  },
  {
   "cell_type": "code",
   "execution_count": 250,
   "id": "dfc14774",
   "metadata": {},
   "outputs": [
    {
     "data": {
      "text/plain": [
       "Payment\n",
       "Ewallet        345\n",
       "Cash           344\n",
       "Credit card    311\n",
       "Name: count, dtype: int64"
      ]
     },
     "execution_count": 250,
     "metadata": {},
     "output_type": "execute_result"
    }
   ],
   "source": [
    "df['Payment'].value_counts()"
   ]
  },
  {
   "cell_type": "markdown",
   "id": "b20e9dfe",
   "metadata": {},
   "source": [
    "## 15 - \"Rating\" Column"
   ]
  },
  {
   "cell_type": "code",
   "execution_count": 251,
   "id": "e816e48f",
   "metadata": {},
   "outputs": [
    {
     "data": {
      "text/plain": [
       "count    1000.000000\n",
       "mean        7.060000\n",
       "std         3.324375\n",
       "min         4.000000\n",
       "25%         5.500000\n",
       "50%         7.000000\n",
       "75%         8.500000\n",
       "max        97.000000\n",
       "Name: Rating, dtype: float64"
      ]
     },
     "execution_count": 251,
     "metadata": {},
     "output_type": "execute_result"
    }
   ],
   "source": [
    "df['Rating'].describe()"
   ]
  },
  {
   "cell_type": "markdown",
   "id": "91e0d436",
   "metadata": {},
   "source": [
    "<span style=\"color:#b30000;font-size:20px;\">Problem : Rating Column has 97.0 value istead of 9.7 </span>"
   ]
  },
  {
   "cell_type": "markdown",
   "id": "6013399d",
   "metadata": {},
   "source": [
    "<span style=\"color:#2929a3;font-size:20px;\">Solution : Replace the value 97.0 with 9.7</span>"
   ]
  },
  {
   "cell_type": "markdown",
   "id": "9e1039ff",
   "metadata": {},
   "source": [
    "<span style=\"color:#2929a3;font-size:20px;\"><b>Code</b> </span>"
   ]
  },
  {
   "cell_type": "code",
   "execution_count": 252,
   "id": "9d614963",
   "metadata": {},
   "outputs": [],
   "source": [
    "### Create fix_rating Function\n",
    "def fix_rating(v):\n",
    "    if v == 97.0:\n",
    "        return 9.7\n",
    "    else:\n",
    "        return v        "
   ]
  },
  {
   "cell_type": "code",
   "execution_count": 253,
   "id": "ff22f201",
   "metadata": {},
   "outputs": [],
   "source": [
    "### Apply fix_rating Fucntion\n",
    "df['Rating'] = df['Rating'].apply(fix_rating)"
   ]
  },
  {
   "cell_type": "markdown",
   "id": "49b4bac9",
   "metadata": {},
   "source": [
    "<span style=\"color:#2929a3;font-size:20px;\"><b>Test</b> </span>"
   ]
  },
  {
   "cell_type": "code",
   "execution_count": 254,
   "id": "66190756",
   "metadata": {},
   "outputs": [
    {
     "data": {
      "text/plain": [
       "count    1000.00000\n",
       "mean        6.97270\n",
       "std         1.71858\n",
       "min         4.00000\n",
       "25%         5.50000\n",
       "50%         7.00000\n",
       "75%         8.50000\n",
       "max        10.00000\n",
       "Name: Rating, dtype: float64"
      ]
     },
     "execution_count": 254,
     "metadata": {},
     "output_type": "execute_result"
    }
   ],
   "source": [
    "df['Rating'].describe()"
   ]
  },
  {
   "cell_type": "markdown",
   "id": "0bcfc2e4",
   "metadata": {},
   "source": [
    "## Export Cleaned Data to CSV File "
   ]
  },
  {
   "cell_type": "code",
   "execution_count": 255,
   "id": "11543417",
   "metadata": {},
   "outputs": [],
   "source": [
    "df.to_csv('Cleaned_Supermarket_Sales.csv', index=False)"
   ]
  }
 ],
 "metadata": {
  "kernelspec": {
   "display_name": "Python 3 (ipykernel)",
   "language": "python",
   "name": "python3"
  },
  "language_info": {
   "codemirror_mode": {
    "name": "ipython",
    "version": 3
   },
   "file_extension": ".py",
   "mimetype": "text/x-python",
   "name": "python",
   "nbconvert_exporter": "python",
   "pygments_lexer": "ipython3",
   "version": "3.10.8"
  }
 },
 "nbformat": 4,
 "nbformat_minor": 5
}
